{
 "cells": [
  {
   "cell_type": "markdown",
   "id": "97b576ce-74fc-469f-8305-f03da1779631",
   "metadata": {},
   "source": [
    "## Carga de los módulos"
   ]
  },
  {
   "cell_type": "code",
   "execution_count": 68,
   "id": "5b587af5-3419-4ca4-b32b-c9024f4c3233",
   "metadata": {},
   "outputs": [],
   "source": [
    "import numpy as np\n",
    "import pandas as pd"
   ]
  },
  {
   "cell_type": "markdown",
   "id": "9257a971-dd2e-4a71-862c-416acb5c563b",
   "metadata": {},
   "source": [
    "### Para fines de estética en la salida, se desactivan las advertencias que pueda informar el intérprete Python"
   ]
  },
  {
   "cell_type": "code",
   "execution_count": 69,
   "id": "ba8668dd-151d-430a-ad0b-e6a7e67d9335",
   "metadata": {},
   "outputs": [],
   "source": [
    "import warnings \n",
    "warnings.filterwarnings(\"ignore\")"
   ]
  },
  {
   "cell_type": "markdown",
   "id": "6829fa4c-1964-446f-8a55-ed10efe7fd5b",
   "metadata": {},
   "source": [
    "## Importación método para creación del conjunto de entrenamiento desde paquete *sklearn*"
   ]
  },
  {
   "cell_type": "code",
   "execution_count": 70,
   "id": "a471d8ac-c440-4bfd-8b47-feb0d663ef68",
   "metadata": {},
   "outputs": [],
   "source": [
    "from sklearn.model_selection import train_test_split"
   ]
  },
  {
   "cell_type": "markdown",
   "id": "ed09b4d2-db37-4439-b3c6-a28451278481",
   "metadata": {},
   "source": [
    "## Paquete sklearn que contiene los métodos para las Mezclas Gaussianas"
   ]
  },
  {
   "cell_type": "code",
   "execution_count": 71,
   "id": "d69681ac-f31f-4f23-bf05-a7fa48a2f101",
   "metadata": {},
   "outputs": [],
   "source": [
    "from sklearn.mixture import GaussianMixture"
   ]
  },
  {
   "cell_type": "markdown",
   "id": "cf1d2d38-154d-461e-bbe3-3d825848fc32",
   "metadata": {},
   "source": [
    "## Lectura de los datos desde el archivo *datosAB.txt*"
   ]
  },
  {
   "cell_type": "code",
   "execution_count": 72,
   "id": "969bf2af-deb1-47ba-8d2d-f39ff79a9853",
   "metadata": {},
   "outputs": [],
   "source": [
    "datos = pd.read_table(\"datosAB.txt\", sep='\\t')"
   ]
  },
  {
   "cell_type": "markdown",
   "id": "fe6c29bd-1df6-4cbc-a268-91da9594c22d",
   "metadata": {},
   "source": [
    "## Creación de conjunto de datos "
   ]
  },
  {
   "cell_type": "code",
   "execution_count": 73,
   "id": "e7fa9e8a-0d54-41e3-bc37-48a9c2f67891",
   "metadata": {},
   "outputs": [],
   "source": [
    "X = datos.iloc[:,:-1]\n",
    "y = datos.iloc[:,2]"
   ]
  },
  {
   "cell_type": "markdown",
   "id": "887a525e-5f59-4879-a7eb-5193b7256a03",
   "metadata": {},
   "source": [
    "## Creación de subconjutos CP y CE"
   ]
  },
  {
   "cell_type": "code",
   "execution_count": 74,
   "id": "183eb861-e598-4971-800f-03b2b6975b36",
   "metadata": {},
   "outputs": [],
   "source": [
    "# Se elige una semilla para la selección pseudo-aleatoria\n",
    "semilla = 123456"
   ]
  },
  {
   "cell_type": "code",
   "execution_count": 75,
   "id": "2ac5f9f4-0dc5-4ae2-ab03-1fdbf1f0e749",
   "metadata": {},
   "outputs": [],
   "source": [
    "X_ce, X_cp, y_ce, y_cp = train_test_split(X, y, test_size=0.3, random_state=semilla)"
   ]
  },
  {
   "cell_type": "markdown",
   "id": "488f3fa6-1795-4034-9f25-7d522ef11bd8",
   "metadata": {},
   "source": [
    "## Creación y ajuste del Clasificador Mezclas Gaussianas"
   ]
  },
  {
   "cell_type": "code",
   "execution_count": 76,
   "id": "908e1f44-e1c2-4163-adea-cc8ea455f020",
   "metadata": {},
   "outputs": [
    {
     "data": {
      "text/html": [
       "<style>#sk-container-id-5 {color: black;background-color: white;}#sk-container-id-5 pre{padding: 0;}#sk-container-id-5 div.sk-toggleable {background-color: white;}#sk-container-id-5 label.sk-toggleable__label {cursor: pointer;display: block;width: 100%;margin-bottom: 0;padding: 0.3em;box-sizing: border-box;text-align: center;}#sk-container-id-5 label.sk-toggleable__label-arrow:before {content: \"▸\";float: left;margin-right: 0.25em;color: #696969;}#sk-container-id-5 label.sk-toggleable__label-arrow:hover:before {color: black;}#sk-container-id-5 div.sk-estimator:hover label.sk-toggleable__label-arrow:before {color: black;}#sk-container-id-5 div.sk-toggleable__content {max-height: 0;max-width: 0;overflow: hidden;text-align: left;background-color: #f0f8ff;}#sk-container-id-5 div.sk-toggleable__content pre {margin: 0.2em;color: black;border-radius: 0.25em;background-color: #f0f8ff;}#sk-container-id-5 input.sk-toggleable__control:checked~div.sk-toggleable__content {max-height: 200px;max-width: 100%;overflow: auto;}#sk-container-id-5 input.sk-toggleable__control:checked~label.sk-toggleable__label-arrow:before {content: \"▾\";}#sk-container-id-5 div.sk-estimator input.sk-toggleable__control:checked~label.sk-toggleable__label {background-color: #d4ebff;}#sk-container-id-5 div.sk-label input.sk-toggleable__control:checked~label.sk-toggleable__label {background-color: #d4ebff;}#sk-container-id-5 input.sk-hidden--visually {border: 0;clip: rect(1px 1px 1px 1px);clip: rect(1px, 1px, 1px, 1px);height: 1px;margin: -1px;overflow: hidden;padding: 0;position: absolute;width: 1px;}#sk-container-id-5 div.sk-estimator {font-family: monospace;background-color: #f0f8ff;border: 1px dotted black;border-radius: 0.25em;box-sizing: border-box;margin-bottom: 0.5em;}#sk-container-id-5 div.sk-estimator:hover {background-color: #d4ebff;}#sk-container-id-5 div.sk-parallel-item::after {content: \"\";width: 100%;border-bottom: 1px solid gray;flex-grow: 1;}#sk-container-id-5 div.sk-label:hover label.sk-toggleable__label {background-color: #d4ebff;}#sk-container-id-5 div.sk-serial::before {content: \"\";position: absolute;border-left: 1px solid gray;box-sizing: border-box;top: 0;bottom: 0;left: 50%;z-index: 0;}#sk-container-id-5 div.sk-serial {display: flex;flex-direction: column;align-items: center;background-color: white;padding-right: 0.2em;padding-left: 0.2em;position: relative;}#sk-container-id-5 div.sk-item {position: relative;z-index: 1;}#sk-container-id-5 div.sk-parallel {display: flex;align-items: stretch;justify-content: center;background-color: white;position: relative;}#sk-container-id-5 div.sk-item::before, #sk-container-id-5 div.sk-parallel-item::before {content: \"\";position: absolute;border-left: 1px solid gray;box-sizing: border-box;top: 0;bottom: 0;left: 50%;z-index: -1;}#sk-container-id-5 div.sk-parallel-item {display: flex;flex-direction: column;z-index: 1;position: relative;background-color: white;}#sk-container-id-5 div.sk-parallel-item:first-child::after {align-self: flex-end;width: 50%;}#sk-container-id-5 div.sk-parallel-item:last-child::after {align-self: flex-start;width: 50%;}#sk-container-id-5 div.sk-parallel-item:only-child::after {width: 0;}#sk-container-id-5 div.sk-dashed-wrapped {border: 1px dashed gray;margin: 0 0.4em 0.5em 0.4em;box-sizing: border-box;padding-bottom: 0.4em;background-color: white;}#sk-container-id-5 div.sk-label label {font-family: monospace;font-weight: bold;display: inline-block;line-height: 1.2em;}#sk-container-id-5 div.sk-label-container {text-align: center;}#sk-container-id-5 div.sk-container {/* jupyter's `normalize.less` sets `[hidden] { display: none; }` but bootstrap.min.css set `[hidden] { display: none !important; }` so we also need the `!important` here to be able to override the default hidden behavior on the sphinx rendered scikit-learn.org. See: https://github.com/scikit-learn/scikit-learn/issues/21755 */display: inline-block !important;position: relative;}#sk-container-id-5 div.sk-text-repr-fallback {display: none;}</style><div id=\"sk-container-id-5\" class=\"sk-top-container\"><div class=\"sk-text-repr-fallback\"><pre>GaussianMixture(n_components=2, random_state=123456)</pre><b>In a Jupyter environment, please rerun this cell to show the HTML representation or trust the notebook. <br />On GitHub, the HTML representation is unable to render, please try loading this page with nbviewer.org.</b></div><div class=\"sk-container\" hidden><div class=\"sk-item\"><div class=\"sk-estimator sk-toggleable\"><input class=\"sk-toggleable__control sk-hidden--visually\" id=\"sk-estimator-id-5\" type=\"checkbox\" checked><label for=\"sk-estimator-id-5\" class=\"sk-toggleable__label sk-toggleable__label-arrow\">GaussianMixture</label><div class=\"sk-toggleable__content\"><pre>GaussianMixture(n_components=2, random_state=123456)</pre></div></div></div></div></div>"
      ],
      "text/plain": [
       "GaussianMixture(n_components=2, random_state=123456)"
      ]
     },
     "execution_count": 76,
     "metadata": {},
     "output_type": "execute_result"
    }
   ],
   "source": [
    "# Entrenamiento y ajuste\n",
    "clasificador = GaussianMixture(n_components=2, random_state=semilla)\n",
    "clasificador.fit(X_ce)"
   ]
  },
  {
   "cell_type": "markdown",
   "id": "8a9b4918-f2ba-40fd-b788-fe06393d3710",
   "metadata": {},
   "source": [
    "## La media de cada componente Gaussiano"
   ]
  },
  {
   "cell_type": "code",
   "execution_count": 77,
   "id": "fa4fb5c0-0485-41b4-a58b-818fd921b88a",
   "metadata": {},
   "outputs": [
    {
     "data": {
      "text/plain": [
       "array([[171.7001437 , 165.16445682],\n",
       "       [168.75092037, 151.54318891]])"
      ]
     },
     "execution_count": 77,
     "metadata": {},
     "output_type": "execute_result"
    }
   ],
   "source": [
    "clasificador.means_"
   ]
  },
  {
   "cell_type": "markdown",
   "id": "554d29c7-1b8f-44c5-8edd-1700ea03f734",
   "metadata": {},
   "source": [
    "## La covarianza de cada componente Gaussiano"
   ]
  },
  {
   "cell_type": "code",
   "execution_count": 78,
   "id": "a1d63eba-4c6f-4f90-a03f-7dc65090729e",
   "metadata": {},
   "outputs": [
    {
     "data": {
      "text/plain": [
       "array([[[16.03890701, -5.55538211],\n",
       "        [-5.55538211,  4.70507708]],\n",
       "\n",
       "       [[18.89966456, -1.41948518],\n",
       "        [-1.41948518, 22.89556923]]])"
      ]
     },
     "execution_count": 78,
     "metadata": {},
     "output_type": "execute_result"
    }
   ],
   "source": [
    "clasificador.covariances_"
   ]
  },
  {
   "cell_type": "markdown",
   "id": "a06f2333-ae42-4308-9a6b-95dc9e381e93",
   "metadata": {},
   "source": [
    "## Matrices de precisión de cada componente Gaussiano"
   ]
  },
  {
   "cell_type": "code",
   "execution_count": 79,
   "id": "739ec597-cef8-432c-afc2-7bf11206dca7",
   "metadata": {},
   "outputs": [
    {
     "data": {
      "text/plain": [
       "array([[[0.10549022, 0.12455449],\n",
       "        [0.12455449, 0.35960043]],\n",
       "\n",
       "       [[0.05315852, 0.00329574],\n",
       "        [0.00329574, 0.0438809 ]]])"
      ]
     },
     "execution_count": 79,
     "metadata": {},
     "output_type": "execute_result"
    }
   ],
   "source": [
    "clasificador.precisions_"
   ]
  },
  {
   "cell_type": "markdown",
   "id": "23fc08af-f0a6-447a-8b75-e29bc2fbf34b",
   "metadata": {},
   "source": [
    "## Predicción"
   ]
  },
  {
   "cell_type": "code",
   "execution_count": 80,
   "id": "06a39a44-2c4c-4143-a0a8-0e9c75fde2fd",
   "metadata": {},
   "outputs": [],
   "source": [
    "y_pred = clasificador.predict(X_cp)"
   ]
  },
  {
   "cell_type": "markdown",
   "id": "6b9655dc-a094-491b-9ff2-9f27dd4e9d9e",
   "metadata": {},
   "source": [
    "## Creación de los resultados estadísticos de la clasificación"
   ]
  },
  {
   "cell_type": "markdown",
   "id": "ef942c7f-93b4-424a-b02f-919616aa93a1",
   "metadata": {},
   "source": [
    "### Importación de método para la matriz de confusión desde paquete *sklearn*"
   ]
  },
  {
   "cell_type": "markdown",
   "id": "9765003d-a97d-405a-b791-10b708ed7e8e",
   "metadata": {},
   "source": [
    "Predicción de la GMM: 0->r y 1->n"
   ]
  },
  {
   "cell_type": "code",
   "execution_count": 81,
   "id": "10e9fe1f-a879-441f-ba41-d7dafd03e6e5",
   "metadata": {},
   "outputs": [],
   "source": [
    "from sklearn.metrics import confusion_matrix\n",
    "from sklearn.metrics import ConfusionMatrixDisplay"
   ]
  },
  {
   "cell_type": "code",
   "execution_count": 82,
   "id": "ec4fbf13-55fa-4b4b-a6c0-e725db8c9b6a",
   "metadata": {},
   "outputs": [],
   "source": [
    "# Importación del etiquetador\n",
    "from sklearn.preprocessing import LabelEncoder\n",
    "# Creación del etiquetador\n",
    "labelencoder_y = LabelEncoder()\n",
    "# Etiquetado y ajuste\n",
    "y_cp = labelencoder_y.fit_transform(y_cp)"
   ]
  },
  {
   "cell_type": "markdown",
   "id": "401c4bdd-5495-4b67-979b-9bb356ccf2f4",
   "metadata": {},
   "source": [
    "### Cálculo de la matriz de confusión"
   ]
  },
  {
   "cell_type": "code",
   "execution_count": 83,
   "id": "046d9df8-f093-4898-8696-82be7a4b4b5a",
   "metadata": {},
   "outputs": [],
   "source": [
    "mconf = confusion_matrix(y_cp, y_pred)"
   ]
  },
  {
   "cell_type": "markdown",
   "id": "ab6edfed-f424-4ed2-ab9f-1d71e53ea145",
   "metadata": {},
   "source": [
    "### Impresión de la matriz de confusión"
   ]
  },
  {
   "cell_type": "code",
   "execution_count": 84,
   "id": "19d2dd86-fa37-45cc-9f02-846e117badd5",
   "metadata": {},
   "outputs": [
    {
     "data": {
      "image/png": "[encoded data removed]",
      "text/plain": [
       "<Figure size 640x480 with 2 Axes>"
      ]
     },
     "metadata": {},
     "output_type": "display_data"
    }
   ],
   "source": [
    "mconfg = ConfusionMatrixDisplay(mconf).plot(cmap='Blues') "
   ]
  },
  {
   "cell_type": "markdown",
   "id": "429d9232-2510-4226-a7fb-5676f542cf0d",
   "metadata": {},
   "source": [
    "### Importación de método para la puntuación de precisión desde paquete *sklearn*"
   ]
  },
  {
   "cell_type": "code",
   "execution_count": 85,
   "id": "c5851304-7563-4992-902e-14f2bfbcc4bc",
   "metadata": {},
   "outputs": [],
   "source": [
    "from sklearn.metrics import accuracy_score"
   ]
  },
  {
   "cell_type": "markdown",
   "id": "32f32181-8137-47ba-bf3a-f532bcdeb30b",
   "metadata": {},
   "source": [
    "### Cálculo de la puntuación de precisión"
   ]
  },
  {
   "cell_type": "code",
   "execution_count": 86,
   "id": "39aab56e-df02-416a-9d23-ba7a0a2bfb38",
   "metadata": {},
   "outputs": [],
   "source": [
    "cc = accuracy_score(y_cp, y_pred)"
   ]
  },
  {
   "cell_type": "markdown",
   "id": "37a55585-2fcf-4ce8-843a-7e0ebeeffba8",
   "metadata": {},
   "source": [
    "### Impresión de la puntuación"
   ]
  },
  {
   "cell_type": "code",
   "execution_count": 87,
   "id": "f321e7c0-cb99-414b-9f50-8a9114024d40",
   "metadata": {},
   "outputs": [
    {
     "name": "stdout",
     "output_type": "stream",
     "text": [
      "Accuracy Score = 0.7272727272727273\n"
     ]
    }
   ],
   "source": [
    "print(f'Accuracy Score = {cc}')"
   ]
  },
  {
   "cell_type": "markdown",
   "id": "149b8fe9-d87e-47f3-8b08-69dbc14739f1",
   "metadata": {},
   "source": [
    "## Importación de métodos para el gráfico "
   ]
  },
  {
   "cell_type": "code",
   "execution_count": 88,
   "id": "5bd41651-2594-4033-b4a8-0aa7c57b0fde",
   "metadata": {},
   "outputs": [],
   "source": [
    "import matplotlib.pyplot as plt\n",
    "from matplotlib.colors import ListedColormap"
   ]
  },
  {
   "cell_type": "markdown",
   "id": "76d96072-f48f-4c7f-ac20-1070d5927514",
   "metadata": {},
   "source": [
    "## Ajuste del etiquetado de la variable y"
   ]
  },
  {
   "cell_type": "code",
   "execution_count": 89,
   "id": "7c7a6f57-7b69-49c3-a28b-fad10a64ef56",
   "metadata": {},
   "outputs": [],
   "source": [
    "# Importación del etiquetador\n",
    "from sklearn.preprocessing import LabelEncoder\n",
    "# Creación del etiquetador\n",
    "labelencoder_y = LabelEncoder()\n",
    "# Etiquetado y ajuste\n",
    "y_ce = labelencoder_y.fit_transform(y_ce)"
   ]
  },
  {
   "cell_type": "markdown",
   "id": "0dd94e18-ca1e-4388-a2b2-721b517f2a71",
   "metadata": {},
   "source": [
    "### **Nota:** Es necesario realizar el ajuste de nuevo dado que cambió la variable y debido al proceso de etiquetado"
   ]
  },
  {
   "cell_type": "code",
   "execution_count": 90,
   "id": "425c9255-cd70-47dc-a682-dd8f329b53be",
   "metadata": {},
   "outputs": [
    {
     "data": {
      "text/html": [
       "<style>#sk-container-id-6 {color: black;background-color: white;}#sk-container-id-6 pre{padding: 0;}#sk-container-id-6 div.sk-toggleable {background-color: white;}#sk-container-id-6 label.sk-toggleable__label {cursor: pointer;display: block;width: 100%;margin-bottom: 0;padding: 0.3em;box-sizing: border-box;text-align: center;}#sk-container-id-6 label.sk-toggleable__label-arrow:before {content: \"▸\";float: left;margin-right: 0.25em;color: #696969;}#sk-container-id-6 label.sk-toggleable__label-arrow:hover:before {color: black;}#sk-container-id-6 div.sk-estimator:hover label.sk-toggleable__label-arrow:before {color: black;}#sk-container-id-6 div.sk-toggleable__content {max-height: 0;max-width: 0;overflow: hidden;text-align: left;background-color: #f0f8ff;}#sk-container-id-6 div.sk-toggleable__content pre {margin: 0.2em;color: black;border-radius: 0.25em;background-color: #f0f8ff;}#sk-container-id-6 input.sk-toggleable__control:checked~div.sk-toggleable__content {max-height: 200px;max-width: 100%;overflow: auto;}#sk-container-id-6 input.sk-toggleable__control:checked~label.sk-toggleable__label-arrow:before {content: \"▾\";}#sk-container-id-6 div.sk-estimator input.sk-toggleable__control:checked~label.sk-toggleable__label {background-color: #d4ebff;}#sk-container-id-6 div.sk-label input.sk-toggleable__control:checked~label.sk-toggleable__label {background-color: #d4ebff;}#sk-container-id-6 input.sk-hidden--visually {border: 0;clip: rect(1px 1px 1px 1px);clip: rect(1px, 1px, 1px, 1px);height: 1px;margin: -1px;overflow: hidden;padding: 0;position: absolute;width: 1px;}#sk-container-id-6 div.sk-estimator {font-family: monospace;background-color: #f0f8ff;border: 1px dotted black;border-radius: 0.25em;box-sizing: border-box;margin-bottom: 0.5em;}#sk-container-id-6 div.sk-estimator:hover {background-color: #d4ebff;}#sk-container-id-6 div.sk-parallel-item::after {content: \"\";width: 100%;border-bottom: 1px solid gray;flex-grow: 1;}#sk-container-id-6 div.sk-label:hover label.sk-toggleable__label {background-color: #d4ebff;}#sk-container-id-6 div.sk-serial::before {content: \"\";position: absolute;border-left: 1px solid gray;box-sizing: border-box;top: 0;bottom: 0;left: 50%;z-index: 0;}#sk-container-id-6 div.sk-serial {display: flex;flex-direction: column;align-items: center;background-color: white;padding-right: 0.2em;padding-left: 0.2em;position: relative;}#sk-container-id-6 div.sk-item {position: relative;z-index: 1;}#sk-container-id-6 div.sk-parallel {display: flex;align-items: stretch;justify-content: center;background-color: white;position: relative;}#sk-container-id-6 div.sk-item::before, #sk-container-id-6 div.sk-parallel-item::before {content: \"\";position: absolute;border-left: 1px solid gray;box-sizing: border-box;top: 0;bottom: 0;left: 50%;z-index: -1;}#sk-container-id-6 div.sk-parallel-item {display: flex;flex-direction: column;z-index: 1;position: relative;background-color: white;}#sk-container-id-6 div.sk-parallel-item:first-child::after {align-self: flex-end;width: 50%;}#sk-container-id-6 div.sk-parallel-item:last-child::after {align-self: flex-start;width: 50%;}#sk-container-id-6 div.sk-parallel-item:only-child::after {width: 0;}#sk-container-id-6 div.sk-dashed-wrapped {border: 1px dashed gray;margin: 0 0.4em 0.5em 0.4em;box-sizing: border-box;padding-bottom: 0.4em;background-color: white;}#sk-container-id-6 div.sk-label label {font-family: monospace;font-weight: bold;display: inline-block;line-height: 1.2em;}#sk-container-id-6 div.sk-label-container {text-align: center;}#sk-container-id-6 div.sk-container {/* jupyter's `normalize.less` sets `[hidden] { display: none; }` but bootstrap.min.css set `[hidden] { display: none !important; }` so we also need the `!important` here to be able to override the default hidden behavior on the sphinx rendered scikit-learn.org. See: https://github.com/scikit-learn/scikit-learn/issues/21755 */display: inline-block !important;position: relative;}#sk-container-id-6 div.sk-text-repr-fallback {display: none;}</style><div id=\"sk-container-id-6\" class=\"sk-top-container\"><div class=\"sk-text-repr-fallback\"><pre>GaussianMixture(n_components=2, random_state=123456)</pre><b>In a Jupyter environment, please rerun this cell to show the HTML representation or trust the notebook. <br />On GitHub, the HTML representation is unable to render, please try loading this page with nbviewer.org.</b></div><div class=\"sk-container\" hidden><div class=\"sk-item\"><div class=\"sk-estimator sk-toggleable\"><input class=\"sk-toggleable__control sk-hidden--visually\" id=\"sk-estimator-id-6\" type=\"checkbox\" checked><label for=\"sk-estimator-id-6\" class=\"sk-toggleable__label sk-toggleable__label-arrow\">GaussianMixture</label><div class=\"sk-toggleable__content\"><pre>GaussianMixture(n_components=2, random_state=123456)</pre></div></div></div></div></div>"
      ],
      "text/plain": [
       "GaussianMixture(n_components=2, random_state=123456)"
      ]
     },
     "execution_count": 90,
     "metadata": {},
     "output_type": "execute_result"
    }
   ],
   "source": [
    "clasificador.fit(X_ce, y_ce)"
   ]
  },
  {
   "cell_type": "markdown",
   "id": "e91a7ac1-4655-4103-b2d9-2178f423b47b",
   "metadata": {},
   "source": [
    "# Se grafica todo el conjunto de datos empleando el clasificador DT para cada dato"
   ]
  },
  {
   "cell_type": "code",
   "execution_count": null,
   "id": "72abe1aa-fd0a-43d4-ad09-fe6caf031822",
   "metadata": {},
   "outputs": [],
   "source": [
    "# Etiquetado y ajuste del conjunto de datos original\n",
    "X_set, y_set = X, labelencoder_y.fit_transform(y)"
   ]
  },
  {
   "cell_type": "markdown",
   "id": "54f76762-2b03-4401-827d-c56419998692",
   "metadata": {},
   "source": [
    "## Creación de la malla (plano cartesiano)"
   ]
  },
  {
   "cell_type": "code",
   "execution_count": 91,
   "id": "4bf98c1d-b879-4ffd-9548-2eddcdb40f68",
   "metadata": {},
   "outputs": [],
   "source": [
    "X1, X2 = np.meshgrid(\n",
    "    np.arange(start = X_set.iloc[:,0].min()-1, stop = X_set.iloc[:,0].max()+1, step=0.1),\n",
    "    np.arange(start = X_set.iloc[:,1].min()-1, stop = X_set.iloc[:,1].max()+1, step=0.1)\n",
    ")"
   ]
  },
  {
   "cell_type": "markdown",
   "id": "56a551aa-3233-4ba8-9eeb-96b5fb0127de",
   "metadata": {},
   "source": [
    "## Creación del gráfico"
   ]
  },
  {
   "cell_type": "code",
   "execution_count": 92,
   "id": "5102d991-247b-4b32-ae5a-013b49bb0b77",
   "metadata": {},
   "outputs": [
    {
     "data": {
      "image/png": "[encoded data removed]",
      "text/plain": [
       "<Figure size 640x480 with 1 Axes>"
      ]
     },
     "metadata": {},
     "output_type": "display_data"
    }
   ],
   "source": [
    "# Al construir la malla, se colorea la región de naranja o rojo \n",
    "# de acuerdo al clasificador DT obtenido\n",
    "plt.contourf(X1, X2, \n",
    "    clasificador.predict(\n",
    "        np.array([X1.ravel(), X2.ravel()]).T).reshape(X1.shape),\n",
    "        alpha = 0.75, cmap = ListedColormap(('orange', 'red'))                \n",
    ")\n",
    "\n",
    "# Se establecen los límites de los ejes x,y en el gráfico\n",
    "plt.xlim(X1.min(), X1.max())\n",
    "plt.ylim(X2.min(), X2.max())\n",
    "\n",
    "# Se grafica cada dato en el plano cartesiano, la clase de cada dato determina el color. \n",
    "# Debido al proceso de etiquetado, 'n' fue sustituido por 0 y 'r' sustituido por 1\n",
    "# 0 -> Naranja\n",
    "# 1 -> Rojo\n",
    "j=0\n",
    "for i in y_set:\n",
    "    if i==0:\n",
    "        color = \"orange\"\n",
    "    else:\n",
    "        color = \"red\"\n",
    "    plt.scatter(\n",
    "        X_set.iloc[j,0],\n",
    "        X_set.iloc[j,1],\n",
    "        c = color,\n",
    "        label = i\n",
    "    )\n",
    "    j=j+1\n",
    "\n",
    "# Etiqueta del gráfico y sus ejes\n",
    "plt.title('Árboles de Decisión: Conjunto de datos')\n",
    "plt.xlabel('a')\n",
    "plt.ylabel('b')\n",
    "\n",
    "# Creación del gráfico\n",
    "plt.show()"
   ]
  },
  {
   "cell_type": "markdown",
   "id": "a46c2757-f82d-446a-a26d-4b25fea01efd",
   "metadata": {},
   "source": [
    "## Creación de los resultados estadísticos de la clasificación"
   ]
  },
  {
   "cell_type": "markdown",
   "id": "0eb3f7bf-bf8d-4a29-b171-d99eb5e954ad",
   "metadata": {},
   "source": [
    "Probabilidad de semejanza de los datos"
   ]
  },
  {
   "cell_type": "code",
   "execution_count": 93,
   "id": "72dd80e4-5011-499a-a476-9dcc03c89d5a",
   "metadata": {},
   "outputs": [
    {
     "data": {
      "text/plain": [
       "array([[1.75045366e-01, 8.24954634e-01],\n",
       "       [9.92224337e-01, 7.77566291e-03],\n",
       "       [2.51527897e-50, 1.00000000e+00],\n",
       "       [2.44360766e-17, 1.00000000e+00],\n",
       "       [1.70534690e-54, 1.00000000e+00],\n",
       "       [9.11999232e-01, 8.80007676e-02],\n",
       "       [1.39338254e-31, 1.00000000e+00],\n",
       "       [2.65924469e-31, 1.00000000e+00],\n",
       "       [2.58435955e-23, 1.00000000e+00],\n",
       "       [9.39304954e-01, 6.06950465e-02],\n",
       "       [9.85462136e-01, 1.45378643e-02]])"
      ]
     },
     "execution_count": 93,
     "metadata": {},
     "output_type": "execute_result"
    }
   ],
   "source": [
    "clasificador.predict_proba(X_cp)"
   ]
  },
  {
   "cell_type": "markdown",
   "id": "28c89cfa-61fb-4052-9d40-e585f0f3ed72",
   "metadata": {},
   "source": [
    "Score general de la clasificación, en escala logarítmica"
   ]
  },
  {
   "cell_type": "code",
   "execution_count": 94,
   "id": "51669d3d-dab4-44be-96df-6ccbf310cdae",
   "metadata": {},
   "outputs": [
    {
     "data": {
      "text/plain": [
       "-7.092754991911707"
      ]
     },
     "execution_count": 94,
     "metadata": {},
     "output_type": "execute_result"
    }
   ],
   "source": [
    "clasificador.score(X_cp)"
   ]
  },
  {
   "cell_type": "markdown",
   "id": "b7ba62e9-6f07-48bf-bd17-0b7b335e2cba",
   "metadata": {},
   "source": [
    "Score por dato de la clasificación, en escala logarítmica"
   ]
  },
  {
   "cell_type": "code",
   "execution_count": 95,
   "id": "ab5877af-b518-40b6-a65f-21dd57010ab7",
   "metadata": {},
   "outputs": [
    {
     "data": {
      "text/plain": [
       "array([-7.79367551, -6.99153593, -7.67121123, -7.38914034, -9.07439805,\n",
       "       -6.78875653, -6.34111896, -5.75182081, -5.80616183, -6.04174723,\n",
       "       -8.3707385 ])"
      ]
     },
     "execution_count": 95,
     "metadata": {},
     "output_type": "execute_result"
    }
   ],
   "source": [
    "clasificador.score_samples(X_cp)"
   ]
  },
  {
   "cell_type": "markdown",
   "id": "dcb20d30-6f25-4968-8d03-0ef47f8cf463",
   "metadata": {},
   "source": [
    "# Clasificar nuevos datos con DT"
   ]
  },
  {
   "cell_type": "markdown",
   "id": "adb33563-ecac-42c9-a4e3-55299ab564b9",
   "metadata": {},
   "source": [
    "## Se clasifica un dato con el clasificador construido con DT"
   ]
  },
  {
   "cell_type": "markdown",
   "id": "72fa885d-fa90-4b57-8ca5-e48bb756e197",
   "metadata": {},
   "source": [
    "dato = (160, 145)"
   ]
  },
  {
   "cell_type": "code",
   "execution_count": 96,
   "id": "4cba6d57-7f18-4faa-aac0-ebc7f6ec9a28",
   "metadata": {},
   "outputs": [
    {
     "name": "stdout",
     "output_type": "stream",
     "text": [
      "rojo\n"
     ]
    }
   ],
   "source": [
    "# Predicción del dato = (160, 145)\n",
    "x = clasificador.predict([[160, 145]])\n",
    "if x==0:\n",
    "    print('naranja')\n",
    "else:\n",
    "    print('rojo')"
   ]
  },
  {
   "cell_type": "markdown",
   "id": "3e17c541-1fe4-43d5-8ece-1cf39533cf72",
   "metadata": {},
   "source": [
    "## Se clasifica otro dato con el clasificador construido con DT"
   ]
  },
  {
   "cell_type": "markdown",
   "id": "7924e0f9-472c-4334-9431-83e8883edfe0",
   "metadata": {},
   "source": [
    "dato = (160, 165)"
   ]
  },
  {
   "cell_type": "code",
   "execution_count": 97,
   "id": "647223fb-a81d-47c8-9642-c24807eda5a4",
   "metadata": {},
   "outputs": [
    {
     "name": "stdout",
     "output_type": "stream",
     "text": [
      "rojo\n"
     ]
    }
   ],
   "source": [
    "# Predicción del dato = (160, 165)\n",
    "x = clasificador.predict([[160, 165]])\n",
    "if x==0:\n",
    "    print('naranja')\n",
    "else:\n",
    "    print('rojo')"
   ]
  },
  {
   "cell_type": "markdown",
   "id": "4723a938-d609-4dcc-9c70-b691eff550f3",
   "metadata": {},
   "source": [
    "## Ahora, a manera de prueba, se clasifica el promedio de los datos"
   ]
  },
  {
   "cell_type": "code",
   "execution_count": null,
   "id": "0ecee769-3959-4738-8b8d-3954067d5ca1",
   "metadata": {},
   "outputs": [],
   "source": [
    "# X_set es un DataFrame de pandas\n",
    "X_set.mean(0)"
   ]
  },
  {
   "cell_type": "code",
   "execution_count": 98,
   "id": "ec31dc83-eeda-496b-a962-f2b5acd39bc7",
   "metadata": {},
   "outputs": [
    {
     "name": "stdout",
     "output_type": "stream",
     "text": [
      "rojo\n"
     ]
    }
   ],
   "source": [
    "# Predicción del dato promedio = (169.6944, 155)\n",
    "x = clasificador.predict([[169.6944, 155]])\n",
    "if x==0:\n",
    "    print('naranja')\n",
    "else:\n",
    "    print('rojo')"
   ]
  },
  {
   "cell_type": "code",
   "execution_count": null,
   "id": "a9a3d9b9-a91d-4d15-b2ac-8951ecc7920e",
   "metadata": {},
   "outputs": [],
   "source": []
  }
 ],
 "metadata": {
  "kernelspec": {
   "display_name": "Python 3 (ipykernel)",
   "language": "python",
   "name": "python3"
  },
  "language_info": {
   "codemirror_mode": {
    "name": "ipython",
    "version": 3
   },
   "file_extension": ".py",
   "mimetype": "text/x-python",
   "name": "python",
   "nbconvert_exporter": "python",
   "pygments_lexer": "ipython3",
   "version": "3.11.3"
  }
 },
 "nbformat": 4,
 "nbformat_minor": 5
}
