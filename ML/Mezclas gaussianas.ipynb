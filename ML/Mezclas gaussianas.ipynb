{
 "cells": [
  {
   "cell_type": "markdown",
   "id": "97b576ce-74fc-469f-8305-f03da1779631",
   "metadata": {},
   "source": [
    "## Carga de los módulos"
   ]
  },
  {
   "cell_type": "code",
   "execution_count": null,
   "id": "5b587af5-3419-4ca4-b32b-c9024f4c3233",
   "metadata": {},
   "outputs": [],
   "source": [
    "import numpy as np\n",
    "import pandas as pd"
   ]
  },
  {
   "cell_type": "markdown",
   "id": "9257a971-dd2e-4a71-862c-416acb5c563b",
   "metadata": {},
   "source": [
    "### Para fines de estética en la salida, se desactivan las advertencias que pueda informar el intérprete Python"
   ]
  },
  {
   "cell_type": "code",
   "execution_count": null,
   "id": "ba8668dd-151d-430a-ad0b-e6a7e67d9335",
   "metadata": {},
   "outputs": [],
   "source": [
    "import warnings \n",
    "warnings.filterwarnings(\"ignore\")"
   ]
  },
  {
   "cell_type": "markdown",
   "id": "6829fa4c-1964-446f-8a55-ed10efe7fd5b",
   "metadata": {},
   "source": [
    "## Importación método para creación del conjunto de entrenamiento desde paquete *sklearn*"
   ]
  },
  {
   "cell_type": "code",
   "execution_count": null,
   "id": "a471d8ac-c440-4bfd-8b47-feb0d663ef68",
   "metadata": {},
   "outputs": [],
   "source": [
    "from sklearn.model_selection import train_test_split"
   ]
  },
  {
   "cell_type": "markdown",
   "id": "ed09b4d2-db37-4439-b3c6-a28451278481",
   "metadata": {},
   "source": [
    "## Paquete sklearn que contiene los métodos para las Mezclas Gaussianas"
   ]
  },
  {
   "cell_type": "code",
   "execution_count": null,
   "id": "d69681ac-f31f-4f23-bf05-a7fa48a2f101",
   "metadata": {},
   "outputs": [],
   "source": [
    "from sklearn.mixture import GaussianMixture"
   ]
  },
  {
   "cell_type": "markdown",
   "id": "cf1d2d38-154d-461e-bbe3-3d825848fc32",
   "metadata": {},
   "source": [
    "## Lectura de los datos desde el archivo *datosAB.txt*"
   ]
  },
  {
   "cell_type": "code",
   "execution_count": null,
   "id": "969bf2af-deb1-47ba-8d2d-f39ff79a9853",
   "metadata": {},
   "outputs": [],
   "source": [
    "datos = pd.read_table(\"datosAB.txt\", sep='\\t')"
   ]
  },
  {
   "cell_type": "markdown",
   "id": "fe6c29bd-1df6-4cbc-a268-91da9594c22d",
   "metadata": {},
   "source": [
    "## Creación de conjunto de datos "
   ]
  },
  {
   "cell_type": "code",
   "execution_count": null,
   "id": "e7fa9e8a-0d54-41e3-bc37-48a9c2f67891",
   "metadata": {},
   "outputs": [],
   "source": [
    "X = datos.iloc[:,:-1]\n",
    "y = datos.iloc[:,2]"
   ]
  },
  {
   "cell_type": "markdown",
   "id": "887a525e-5f59-4879-a7eb-5193b7256a03",
   "metadata": {},
   "source": [
    "## Creación de subconjutos CP y CE"
   ]
  },
  {
   "cell_type": "code",
   "execution_count": null,
   "id": "183eb861-e598-4971-800f-03b2b6975b36",
   "metadata": {},
   "outputs": [],
   "source": [
    "# Se elige una semilla para la selección pseudo-aleatoria\n",
    "semilla = 123456"
   ]
  },
  {
   "cell_type": "code",
   "execution_count": null,
   "id": "2ac5f9f4-0dc5-4ae2-ab03-1fdbf1f0e749",
   "metadata": {},
   "outputs": [],
   "source": [
    "X_ce, X_cp, y_ce, y_cp = train_test_split(X, y, test_size=0.3, random_state=semilla)"
   ]
  },
  {
   "cell_type": "markdown",
   "id": "488f3fa6-1795-4034-9f25-7d522ef11bd8",
   "metadata": {},
   "source": [
    "## Creación y ajuste del Clasificador Mezclas Gaussianas"
   ]
  },
  {
   "cell_type": "code",
   "execution_count": null,
   "id": "908e1f44-e1c2-4163-adea-cc8ea455f020",
   "metadata": {},
   "outputs": [],
   "source": [
    "# Entrenamiento y ajuste\n",
    "clasificador = GaussianMixture(n_components=2, random_state=semilla)\n",
    "clasificador.fit(X_ce)"
   ]
  },
  {
   "cell_type": "markdown",
   "id": "8a9b4918-f2ba-40fd-b788-fe06393d3710",
   "metadata": {},
   "source": [
    "## La media de cada componente Gaussiano"
   ]
  },
  {
   "cell_type": "code",
   "execution_count": null,
   "id": "fa4fb5c0-0485-41b4-a58b-818fd921b88a",
   "metadata": {},
   "outputs": [],
   "source": [
    "clasificador.means_"
   ]
  },
  {
   "cell_type": "markdown",
   "id": "554d29c7-1b8f-44c5-8edd-1700ea03f734",
   "metadata": {},
   "source": [
    "## La covarianza de cada componente Gaussiano"
   ]
  },
  {
   "cell_type": "code",
   "execution_count": null,
   "id": "a1d63eba-4c6f-4f90-a03f-7dc65090729e",
   "metadata": {},
   "outputs": [],
   "source": [
    "clasificador.covariances_"
   ]
  },
  {
   "cell_type": "markdown",
   "id": "a06f2333-ae42-4308-9a6b-95dc9e381e93",
   "metadata": {},
   "source": [
    "## Matrices de precisión de cada componente Gaussiano"
   ]
  },
  {
   "cell_type": "code",
   "execution_count": null,
   "id": "739ec597-cef8-432c-afc2-7bf11206dca7",
   "metadata": {},
   "outputs": [],
   "source": [
    "clasificador.precisions_"
   ]
  },
  {
   "cell_type": "markdown",
   "id": "23fc08af-f0a6-447a-8b75-e29bc2fbf34b",
   "metadata": {},
   "source": [
    "## Predicción"
   ]
  },
  {
   "cell_type": "code",
   "execution_count": null,
   "id": "06a39a44-2c4c-4143-a0a8-0e9c75fde2fd",
   "metadata": {},
   "outputs": [],
   "source": [
    "y_pred = clasificador.predict(X_cp)"
   ]
  },
  {
   "cell_type": "markdown",
   "id": "6b9655dc-a094-491b-9ff2-9f27dd4e9d9e",
   "metadata": {},
   "source": [
    "## Creación de los resultados estadísticos de la clasificación"
   ]
  },
  {
   "cell_type": "markdown",
   "id": "ef942c7f-93b4-424a-b02f-919616aa93a1",
   "metadata": {},
   "source": [
    "### Importación de método para la matriz de confusión desde paquete *sklearn*"
   ]
  },
  {
   "cell_type": "markdown",
   "id": "9765003d-a97d-405a-b791-10b708ed7e8e",
   "metadata": {},
   "source": [
    "Predicción de la GMM: 0->r y 1->n"
   ]
  },
  {
   "cell_type": "code",
   "execution_count": null,
   "id": "10e9fe1f-a879-441f-ba41-d7dafd03e6e5",
   "metadata": {},
   "outputs": [],
   "source": [
    "from sklearn.metrics import confusion_matrix\n",
    "from sklearn.metrics import ConfusionMatrixDisplay"
   ]
  },
  {
   "cell_type": "code",
   "execution_count": null,
   "id": "ec4fbf13-55fa-4b4b-a6c0-e725db8c9b6a",
   "metadata": {},
   "outputs": [],
   "source": [
    "# Importación del etiquetador\n",
    "from sklearn.preprocessing import LabelEncoder\n",
    "# Creación del etiquetador\n",
    "labelencoder_y = LabelEncoder()\n",
    "# Etiquetado y ajuste\n",
    "y_cp = labelencoder_y.fit_transform(y_cp)"
   ]
  },
  {
   "cell_type": "markdown",
   "id": "401c4bdd-5495-4b67-979b-9bb356ccf2f4",
   "metadata": {},
   "source": [
    "### Cálculo de la matriz de confusión"
   ]
  },
  {
   "cell_type": "code",
   "execution_count": null,
   "id": "046d9df8-f093-4898-8696-82be7a4b4b5a",
   "metadata": {},
   "outputs": [],
   "source": [
    "mconf = confusion_matrix(y_cp, y_pred)"
   ]
  },
  {
   "cell_type": "markdown",
   "id": "ab6edfed-f424-4ed2-ab9f-1d71e53ea145",
   "metadata": {},
   "source": [
    "### Impresión de la matriz de confusión"
   ]
  },
  {
   "cell_type": "code",
   "execution_count": null,
   "id": "19d2dd86-fa37-45cc-9f02-846e117badd5",
   "metadata": {},
   "outputs": [],
   "source": [
    "mconfg = ConfusionMatrixDisplay(mconf).plot(cmap='Blues') "
   ]
  },
  {
   "cell_type": "markdown",
   "id": "429d9232-2510-4226-a7fb-5676f542cf0d",
   "metadata": {},
   "source": [
    "### Importación de método para la puntuación de precisión desde paquete *sklearn*"
   ]
  },
  {
   "cell_type": "code",
   "execution_count": null,
   "id": "c5851304-7563-4992-902e-14f2bfbcc4bc",
   "metadata": {},
   "outputs": [],
   "source": [
    "from sklearn.metrics import accuracy_score"
   ]
  },
  {
   "cell_type": "markdown",
   "id": "32f32181-8137-47ba-bf3a-f532bcdeb30b",
   "metadata": {},
   "source": [
    "### Cálculo de la puntuación de precisión"
   ]
  },
  {
   "cell_type": "code",
   "execution_count": null,
   "id": "39aab56e-df02-416a-9d23-ba7a0a2bfb38",
   "metadata": {},
   "outputs": [],
   "source": [
    "cc = accuracy_score(y_cp, y_pred)"
   ]
  },
  {
   "cell_type": "markdown",
   "id": "37a55585-2fcf-4ce8-843a-7e0ebeeffba8",
   "metadata": {},
   "source": [
    "### Impresión de la puntuación"
   ]
  },
  {
   "cell_type": "code",
   "execution_count": null,
   "id": "f321e7c0-cb99-414b-9f50-8a9114024d40",
   "metadata": {},
   "outputs": [],
   "source": [
    "print(f'Accuracy Score = {cc}')"
   ]
  },
  {
   "cell_type": "markdown",
   "id": "149b8fe9-d87e-47f3-8b08-69dbc14739f1",
   "metadata": {},
   "source": [
    "## Importación de métodos para el gráfico "
   ]
  },
  {
   "cell_type": "code",
   "execution_count": null,
   "id": "5bd41651-2594-4033-b4a8-0aa7c57b0fde",
   "metadata": {},
   "outputs": [],
   "source": [
    "import matplotlib.pyplot as plt\n",
    "from matplotlib.colors import ListedColormap"
   ]
  },
  {
   "cell_type": "markdown",
   "id": "76d96072-f48f-4c7f-ac20-1070d5927514",
   "metadata": {},
   "source": [
    "## Ajuste del etiquetado de la variable y"
   ]
  },
  {
   "cell_type": "code",
   "execution_count": null,
   "id": "7c7a6f57-7b69-49c3-a28b-fad10a64ef56",
   "metadata": {},
   "outputs": [],
   "source": [
    "# Importación del etiquetador\n",
    "from sklearn.preprocessing import LabelEncoder\n",
    "# Creación del etiquetador\n",
    "labelencoder_y = LabelEncoder()\n",
    "# Etiquetado y ajuste\n",
    "y_ce = labelencoder_y.fit_transform(y_ce)"
   ]
  },
  {
   "cell_type": "markdown",
   "id": "0dd94e18-ca1e-4388-a2b2-721b517f2a71",
   "metadata": {},
   "source": [
    "### **Nota:** Es necesario realizar el ajuste de nuevo dado que cambió la variable y debido al proceso de etiquetado"
   ]
  },
  {
   "cell_type": "code",
   "execution_count": null,
   "id": "425c9255-cd70-47dc-a682-dd8f329b53be",
   "metadata": {},
   "outputs": [],
   "source": [
    "clasificador.fit(X_ce, y_ce)"
   ]
  },
  {
   "cell_type": "markdown",
   "id": "e91a7ac1-4655-4103-b2d9-2178f423b47b",
   "metadata": {},
   "source": [
    "# Se grafica todo el conjunto de datos empleando el clasificador DT para cada dato"
   ]
  },
  {
   "cell_type": "code",
   "execution_count": null,
   "id": "72abe1aa-fd0a-43d4-ad09-fe6caf031822",
   "metadata": {},
   "outputs": [],
   "source": [
    "# Etiquetado y ajuste del conjunto de datos original\n",
    "X_set, y_set = X, labelencoder_y.fit_transform(y)"
   ]
  },
  {
   "cell_type": "markdown",
   "id": "54f76762-2b03-4401-827d-c56419998692",
   "metadata": {},
   "source": [
    "## Creación de la malla (plano cartesiano)"
   ]
  },
  {
   "cell_type": "code",
   "execution_count": null,
   "id": "4bf98c1d-b879-4ffd-9548-2eddcdb40f68",
   "metadata": {},
   "outputs": [],
   "source": [
    "X1, X2 = np.meshgrid(\n",
    "    np.arange(start = X_set.iloc[:,0].min()-1, stop = X_set.iloc[:,0].max()+1, step=0.1),\n",
    "    np.arange(start = X_set.iloc[:,1].min()-1, stop = X_set.iloc[:,1].max()+1, step=0.1)\n",
    ")"
   ]
  },
  {
   "cell_type": "markdown",
   "id": "56a551aa-3233-4ba8-9eeb-96b5fb0127de",
   "metadata": {},
   "source": [
    "## Creación del gráfico"
   ]
  },
  {
   "cell_type": "code",
   "execution_count": null,
   "id": "5102d991-247b-4b32-ae5a-013b49bb0b77",
   "metadata": {},
   "outputs": [],
   "source": [
    "# Al construir la malla, se colorea la región de naranja o rojo \n",
    "# de acuerdo al clasificador DT obtenido\n",
    "plt.contourf(X1, X2, \n",
    "    clasificador.predict(\n",
    "        np.array([X1.ravel(), X2.ravel()]).T).reshape(X1.shape),\n",
    "        alpha = 0.75, cmap = ListedColormap(('orange', 'red'))                \n",
    ")\n",
    "\n",
    "# Se establecen los límites de los ejes x,y en el gráfico\n",
    "plt.xlim(X1.min(), X1.max())\n",
    "plt.ylim(X2.min(), X2.max())\n",
    "\n",
    "# Se grafica cada dato en el plano cartesiano, la clase de cada dato determina el color. \n",
    "# Debido al proceso de etiquetado, 'n' fue sustituido por 0 y 'r' sustituido por 1\n",
    "# 0 -> Naranja\n",
    "# 1 -> Rojo\n",
    "j=0\n",
    "for i in y_set:\n",
    "    if i==0:\n",
    "        color = \"orange\"\n",
    "    else:\n",
    "        color = \"red\"\n",
    "    plt.scatter(\n",
    "        X_set.iloc[j,0],\n",
    "        X_set.iloc[j,1],\n",
    "        c = color,\n",
    "        label = i\n",
    "    )\n",
    "    j=j+1\n",
    "\n",
    "# Etiqueta del gráfico y sus ejes\n",
    "plt.title('Árboles de Decisión: Conjunto de datos')\n",
    "plt.xlabel('a')\n",
    "plt.ylabel('b')\n",
    "\n",
    "# Creación del gráfico\n",
    "plt.show()"
   ]
  },
  {
   "cell_type": "markdown",
   "id": "a46c2757-f82d-446a-a26d-4b25fea01efd",
   "metadata": {},
   "source": [
    "## Creación de los resultados estadísticos de la clasificación"
   ]
  },
  {
   "cell_type": "markdown",
   "id": "0eb3f7bf-bf8d-4a29-b171-d99eb5e954ad",
   "metadata": {},
   "source": [
    "Probabilidad de semejanza de los datos"
   ]
  },
  {
   "cell_type": "code",
   "execution_count": null,
   "id": "72dd80e4-5011-499a-a476-9dcc03c89d5a",
   "metadata": {},
   "outputs": [],
   "source": [
    "clasificador.predict_proba(X_cp)"
   ]
  },
  {
   "cell_type": "markdown",
   "id": "28c89cfa-61fb-4052-9d40-e585f0f3ed72",
   "metadata": {},
   "source": [
    "Score general de la clasificación, en escala logarítmica"
   ]
  },
  {
   "cell_type": "code",
   "execution_count": null,
   "id": "51669d3d-dab4-44be-96df-6ccbf310cdae",
   "metadata": {},
   "outputs": [],
   "source": [
    "clasificador.score(X_cp)"
   ]
  },
  {
   "cell_type": "markdown",
   "id": "b7ba62e9-6f07-48bf-bd17-0b7b335e2cba",
   "metadata": {},
   "source": [
    "Score por dato de la clasificación, en escala logarítmica"
   ]
  },
  {
   "cell_type": "code",
   "execution_count": null,
   "id": "ab5877af-b518-40b6-a65f-21dd57010ab7",
   "metadata": {},
   "outputs": [],
   "source": [
    "clasificador.score_samples(X_cp)"
   ]
  },
  {
   "cell_type": "markdown",
   "id": "dcb20d30-6f25-4968-8d03-0ef47f8cf463",
   "metadata": {},
   "source": [
    "# Clasificar nuevos datos con DT"
   ]
  },
  {
   "cell_type": "markdown",
   "id": "adb33563-ecac-42c9-a4e3-55299ab564b9",
   "metadata": {},
   "source": [
    "## Se clasifica un dato con el clasificador construido con DT"
   ]
  },
  {
   "cell_type": "markdown",
   "id": "72fa885d-fa90-4b57-8ca5-e48bb756e197",
   "metadata": {},
   "source": [
    "dato = (160, 145)"
   ]
  },
  {
   "cell_type": "code",
   "execution_count": null,
   "id": "4cba6d57-7f18-4faa-aac0-ebc7f6ec9a28",
   "metadata": {},
   "outputs": [],
   "source": [
    "# Predicción del dato = (160, 145)\n",
    "x = clasificador.predict([[160, 145]])\n",
    "if x==0:\n",
    "    print('naranja')\n",
    "else:\n",
    "    print('rojo')"
   ]
  },
  {
   "cell_type": "markdown",
   "id": "3e17c541-1fe4-43d5-8ece-1cf39533cf72",
   "metadata": {},
   "source": [
    "## Se clasifica otro dato con el clasificador construido con DT"
   ]
  },
  {
   "cell_type": "markdown",
   "id": "7924e0f9-472c-4334-9431-83e8883edfe0",
   "metadata": {},
   "source": [
    "dato = (160, 165)"
   ]
  },
  {
   "cell_type": "code",
   "execution_count": null,
   "id": "647223fb-a81d-47c8-9642-c24807eda5a4",
   "metadata": {},
   "outputs": [],
   "source": [
    "# Predicción del dato = (160, 165)\n",
    "x = clasificador.predict([[160, 165]])\n",
    "if x==0:\n",
    "    print('naranja')\n",
    "else:\n",
    "    print('rojo')"
   ]
  },
  {
   "cell_type": "markdown",
   "id": "4723a938-d609-4dcc-9c70-b691eff550f3",
   "metadata": {},
   "source": [
    "## Ahora, a manera de prueba, se clasifica el promedio de los datos"
   ]
  },
  {
   "cell_type": "code",
   "execution_count": null,
   "id": "0ecee769-3959-4738-8b8d-3954067d5ca1",
   "metadata": {},
   "outputs": [],
   "source": [
    "# X_set es un DataFrame de pandas\n",
    "X_set.mean(0)"
   ]
  },
  {
   "cell_type": "code",
   "execution_count": null,
   "id": "ec31dc83-eeda-496b-a962-f2b5acd39bc7",
   "metadata": {},
   "outputs": [],
   "source": [
    "# Predicción del dato promedio = (169.6944, 155)\n",
    "x = clasificador.predict([[169.6944, 155]])\n",
    "if x==0:\n",
    "    print('naranja')\n",
    "else:\n",
    "    print('rojo')"
   ]
  }
 ],
 "metadata": {
  "kernelspec": {
   "display_name": "Python 3 (ipykernel)",
   "language": "python",
   "name": "python3"
  },
  "language_info": {
   "codemirror_mode": {
    "name": "ipython",
    "version": 3
   },
   "file_extension": ".py",
   "mimetype": "text/x-python",
   "name": "python",
   "nbconvert_exporter": "python",
   "pygments_lexer": "ipython3",
   "version": "3.11.3"
  }
 },
 "nbformat": 4,
 "nbformat_minor": 5
}
