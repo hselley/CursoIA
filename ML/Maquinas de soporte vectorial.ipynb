{
 "cells": [
  {
   "cell_type": "markdown",
   "id": "12b5fbdd-467d-45cd-aba9-c114e32e4d77",
   "metadata": {},
   "source": [
    "# [Máquinas de soporte vectorial (SVM)](https://scikit-learn.org/stable/modules/svm.html#svm-classification)"
   ]
  },
  {
   "cell_type": "markdown",
   "id": "97b576ce-74fc-469f-8305-f03da1779631",
   "metadata": {
    "id": "97b576ce-74fc-469f-8305-f03da1779631"
   },
   "source": [
    "## Paquetes numpy y pandas"
   ]
  },
  {
   "cell_type": "code",
   "execution_count": null,
   "id": "5b587af5-3419-4ca4-b32b-c9024f4c3233",
   "metadata": {
    "id": "5b587af5-3419-4ca4-b32b-c9024f4c3233"
   },
   "outputs": [],
   "source": [
    "import numpy as np\n",
    "import pandas as pd"
   ]
  },
  {
   "cell_type": "markdown",
   "id": "6ae59b40-bae4-4a0e-838f-819899d52abb",
   "metadata": {},
   "source": [
    "### Para fines de estética en la salida, se desactivan las advertencias que pueda informar el intérprete Python"
   ]
  },
  {
   "cell_type": "code",
   "execution_count": null,
   "id": "58dd0618-4cf6-4da7-998e-42815fa97531",
   "metadata": {},
   "outputs": [],
   "source": [
    "import warnings \n",
    "warnings.filterwarnings(\"ignore\")"
   ]
  },
  {
   "cell_type": "markdown",
   "id": "f980a02f-5b65-4684-a54f-6971da97da31",
   "metadata": {},
   "source": [
    "## Paquetes para la construcción del gráfico"
   ]
  },
  {
   "cell_type": "code",
   "execution_count": null,
   "id": "02c7d6b1-764c-480f-b025-d0043a1ac561",
   "metadata": {},
   "outputs": [],
   "source": [
    "# Paquetes para los gráficos\n",
    "import matplotlib.pyplot as plt\n",
    "import graphviz "
   ]
  },
  {
   "cell_type": "markdown",
   "id": "4c155368-5e39-4f88-ad15-31e5b0294b81",
   "metadata": {},
   "source": [
    "## Importación método para creación del conjunto de entrenamiento desde paquete *sklearn*"
   ]
  },
  {
   "cell_type": "code",
   "execution_count": null,
   "id": "183eb861-e598-4971-800f-03b2b6975b36",
   "metadata": {
    "id": "183eb861-e598-4971-800f-03b2b6975b36"
   },
   "outputs": [],
   "source": [
    "from sklearn.model_selection import train_test_split"
   ]
  },
  {
   "cell_type": "markdown",
   "id": "fc00a2f2-ce66-49b5-acc8-32cb99c4d076",
   "metadata": {},
   "source": [
    "## Paquete sklearn que contiene los métodos para máquinas de soporte vectorial"
   ]
  },
  {
   "cell_type": "code",
   "execution_count": null,
   "id": "21ab258c-c2b2-48e5-b10a-b9f462f3a7ab",
   "metadata": {},
   "outputs": [],
   "source": [
    "# Métodos para árboles de decisión desde sklearn\n",
    "from sklearn.inspection import DecisionBoundaryDisplay\n",
    "from sklearn import svm, datasets"
   ]
  },
  {
   "cell_type": "markdown",
   "id": "cf1d2d38-154d-461e-bbe3-3d825848fc32",
   "metadata": {
    "id": "cf1d2d38-154d-461e-bbe3-3d825848fc32"
   },
   "source": [
    "## Lectura de los datos desde el archivo *datosAB.txt*"
   ]
  },
  {
   "cell_type": "code",
   "execution_count": null,
   "id": "969bf2af-deb1-47ba-8d2d-f39ff79a9853",
   "metadata": {
    "id": "969bf2af-deb1-47ba-8d2d-f39ff79a9853"
   },
   "outputs": [],
   "source": [
    "# Esta es la opción para Jupyter Lab/Notebook\n",
    "datos = pd.read_table(\"datosAB.txt\", sep='\\t')"
   ]
  },
  {
   "cell_type": "markdown",
   "id": "fe6c29bd-1df6-4cbc-a268-91da9594c22d",
   "metadata": {
    "id": "fe6c29bd-1df6-4cbc-a268-91da9594c22d"
   },
   "source": [
    "## Creación de conjunto de datos "
   ]
  },
  {
   "cell_type": "code",
   "execution_count": null,
   "id": "e7fa9e8a-0d54-41e3-bc37-48a9c2f67891",
   "metadata": {
    "id": "e7fa9e8a-0d54-41e3-bc37-48a9c2f67891"
   },
   "outputs": [],
   "source": [
    "# Conjunto de datos\n",
    "X = datos.iloc[:,:-1]\n",
    "y = datos.iloc[:,2]"
   ]
  },
  {
   "cell_type": "markdown",
   "id": "887a525e-5f59-4879-a7eb-5193b7256a03",
   "metadata": {
    "id": "887a525e-5f59-4879-a7eb-5193b7256a03"
   },
   "source": [
    "## Creación de subconjutos CP y CE"
   ]
  },
  {
   "cell_type": "code",
   "execution_count": null,
   "id": "2ac5f9f4-0dc5-4ae2-ab03-1fdbf1f0e749",
   "metadata": {
    "id": "2ac5f9f4-0dc5-4ae2-ab03-1fdbf1f0e749"
   },
   "outputs": [],
   "source": [
    "# Se elige una semilla para la selección pseudo-aleatoria\n",
    "semilla = 123456"
   ]
  },
  {
   "cell_type": "code",
   "execution_count": null,
   "id": "7c338d3b-b44a-4bf0-a72f-703bb862bd0b",
   "metadata": {},
   "outputs": [],
   "source": [
    "X_ce, X_cp, y_ce, y_cp = train_test_split(X, y, test_size=0.3, random_state=semilla)"
   ]
  },
  {
   "cell_type": "markdown",
   "id": "488f3fa6-1795-4034-9f25-7d522ef11bd8",
   "metadata": {
    "id": "488f3fa6-1795-4034-9f25-7d522ef11bd8"
   },
   "source": [
    "## Creación y ajuste del clasificador SVM"
   ]
  },
  {
   "cell_type": "code",
   "execution_count": null,
   "id": "908e1f44-e1c2-4163-adea-cc8ea455f020",
   "metadata": {
    "id": "908e1f44-e1c2-4163-adea-cc8ea455f020"
   },
   "outputs": [],
   "source": [
    "# Entrenamiento y ajuste\n",
    "clasificador = svm.SVC(kernel=\"poly\", degree=3, gamma=\"auto\", C=1.0)\n",
    "clasificador = clasificador.fit(X_ce, y_ce)"
   ]
  },
  {
   "cell_type": "markdown",
   "id": "23fc08af-f0a6-447a-8b75-e29bc2fbf34b",
   "metadata": {
    "id": "23fc08af-f0a6-447a-8b75-e29bc2fbf34b"
   },
   "source": [
    "## Predicción"
   ]
  },
  {
   "cell_type": "code",
   "execution_count": null,
   "id": "06a39a44-2c4c-4143-a0a8-0e9c75fde2fd",
   "metadata": {
    "id": "06a39a44-2c4c-4143-a0a8-0e9c75fde2fd"
   },
   "outputs": [],
   "source": [
    "y_pred = clasificador.predict(X_cp)"
   ]
  },
  {
   "cell_type": "code",
   "execution_count": null,
   "id": "0a54c35d-6193-4a40-91c8-1f267d3df6ec",
   "metadata": {},
   "outputs": [],
   "source": [
    "print(y_cp)"
   ]
  },
  {
   "cell_type": "code",
   "execution_count": null,
   "id": "3407c4db-2612-4365-be01-df52c870614f",
   "metadata": {},
   "outputs": [],
   "source": [
    "print(y_pred)"
   ]
  },
  {
   "cell_type": "markdown",
   "id": "a46c2757-f82d-446a-a26d-4b25fea01efd",
   "metadata": {
    "id": "a46c2757-f82d-446a-a26d-4b25fea01efd"
   },
   "source": [
    "## Creación de los resultados estadísticos de la clasificación"
   ]
  },
  {
   "cell_type": "markdown",
   "id": "c7984d53-9646-4023-99b6-7130b96e6a0c",
   "metadata": {},
   "source": [
    "### Importación de método para la matriz de confusión desde paquete *sklearn*"
   ]
  },
  {
   "cell_type": "code",
   "execution_count": null,
   "id": "b2ce0da6-d745-4481-a1a8-b90ae2370a27",
   "metadata": {
    "id": "b2ce0da6-d745-4481-a1a8-b90ae2370a27"
   },
   "outputs": [],
   "source": [
    "from sklearn.metrics import confusion_matrix\n",
    "from sklearn.metrics import ConfusionMatrixDisplay"
   ]
  },
  {
   "cell_type": "markdown",
   "id": "47d721d9-ce0c-4520-865d-80f41b680744",
   "metadata": {},
   "source": [
    "### Cálculo de la matriz de confusión"
   ]
  },
  {
   "cell_type": "code",
   "execution_count": null,
   "id": "a8bb6f20-7cca-408b-aeaa-511fdee23df3",
   "metadata": {
    "id": "a8bb6f20-7cca-408b-aeaa-511fdee23df3"
   },
   "outputs": [],
   "source": [
    "mconf = confusion_matrix(y_cp, y_pred)"
   ]
  },
  {
   "cell_type": "markdown",
   "id": "207217ad-52ac-4516-88a7-61901462e197",
   "metadata": {},
   "source": [
    "### Impresión de la matriz de confusión"
   ]
  },
  {
   "cell_type": "code",
   "execution_count": null,
   "id": "6c60ba78-6d36-416b-a8f6-a66f4b61f147",
   "metadata": {
    "id": "6c60ba78-6d36-416b-a8f6-a66f4b61f147"
   },
   "outputs": [],
   "source": [
    "mconfg = ConfusionMatrixDisplay(mconf).plot(cmap='Blues') "
   ]
  },
  {
   "cell_type": "markdown",
   "id": "ac984874-e335-4fda-812f-ab20a168a60c",
   "metadata": {},
   "source": [
    "### Importación de método para la puntuación de precisión desde paquete *sklearn*"
   ]
  },
  {
   "cell_type": "code",
   "execution_count": null,
   "id": "5f49a494-caac-4de5-9b76-42ead9bb15d2",
   "metadata": {
    "id": "5f49a494-caac-4de5-9b76-42ead9bb15d2"
   },
   "outputs": [],
   "source": [
    "from sklearn.metrics import accuracy_score"
   ]
  },
  {
   "cell_type": "markdown",
   "id": "bea103d8-51e1-47ff-89b5-38a12cdfbce6",
   "metadata": {},
   "source": [
    "### Cálculo de la puntuación de precisión"
   ]
  },
  {
   "cell_type": "code",
   "execution_count": null,
   "id": "8fab8a5d-200f-448c-934b-8bbb575a6779",
   "metadata": {
    "id": "8fab8a5d-200f-448c-934b-8bbb575a6779"
   },
   "outputs": [],
   "source": [
    "cc = accuracy_score(y_cp, y_pred)"
   ]
  },
  {
   "cell_type": "markdown",
   "id": "8ed78819-56bf-4e25-b998-469818201d16",
   "metadata": {},
   "source": [
    "### Impresión de la puntuación"
   ]
  },
  {
   "cell_type": "code",
   "execution_count": null,
   "id": "b16ffb0b-ed60-4d2c-9998-e4f0fb64a9eb",
   "metadata": {
    "id": "b16ffb0b-ed60-4d2c-9998-e4f0fb64a9eb"
   },
   "outputs": [],
   "source": [
    "print(f'Accuracy Score = {cc}')"
   ]
  },
  {
   "cell_type": "markdown",
   "id": "27777d79-d548-4178-8ba9-5edf7ee7a474",
   "metadata": {
    "id": "27777d79-d548-4178-8ba9-5edf7ee7a474"
   },
   "source": [
    "## Importación de métodos para el gráfico "
   ]
  },
  {
   "cell_type": "code",
   "execution_count": null,
   "id": "af42b414-9cdd-4dc1-9f6c-a2d11fa13b45",
   "metadata": {
    "id": "af42b414-9cdd-4dc1-9f6c-a2d11fa13b45"
   },
   "outputs": [],
   "source": [
    "import matplotlib.pyplot as plt\n",
    "from matplotlib.colors import ListedColormap"
   ]
  },
  {
   "cell_type": "markdown",
   "id": "ec7607b8-fec8-4547-a7b7-62a2d3f979ef",
   "metadata": {
    "id": "ec7607b8-fec8-4547-a7b7-62a2d3f979ef"
   },
   "source": [
    "## Ajuste del etiquetado de la variable y"
   ]
  },
  {
   "cell_type": "code",
   "execution_count": null,
   "id": "14308fae-938a-4d71-b1c8-d211848ac174",
   "metadata": {},
   "outputs": [],
   "source": [
    "y_ce"
   ]
  },
  {
   "cell_type": "code",
   "execution_count": null,
   "id": "664b5a30-4ac9-4f5a-adf1-f9a0bf19bdd9",
   "metadata": {},
   "outputs": [],
   "source": [
    "y_cp"
   ]
  },
  {
   "cell_type": "code",
   "execution_count": null,
   "id": "db705e90-588f-4c30-bf18-874c8d4a8e7a",
   "metadata": {
    "id": "db705e90-588f-4c30-bf18-874c8d4a8e7a"
   },
   "outputs": [],
   "source": [
    "# Importación del etiquetador\n",
    "from sklearn.preprocessing import LabelEncoder\n",
    "# Creación del etiquetador\n",
    "labelencoder_y = LabelEncoder()\n",
    "# Etiquetado y ajuste\n",
    "y_ce = labelencoder_y.fit_transform(y_ce)"
   ]
  },
  {
   "cell_type": "code",
   "execution_count": null,
   "id": "6bed6f9d-119c-40e7-b8e0-e2d0dcbd66ce",
   "metadata": {},
   "outputs": [],
   "source": [
    "y_ce"
   ]
  },
  {
   "cell_type": "markdown",
   "id": "b44ef35a-bc99-428c-9ff0-2d8b913e0e0e",
   "metadata": {
    "id": "b44ef35a-bc99-428c-9ff0-2d8b913e0e0e"
   },
   "source": [
    "### **Nota:** Es necesario realizar el ajuste de nuevo dado que cambió la variable y debido al proceso de etiquetado"
   ]
  },
  {
   "cell_type": "code",
   "execution_count": null,
   "id": "bacbfb27-e80e-496b-b14d-416f45554951",
   "metadata": {
    "id": "bacbfb27-e80e-496b-b14d-416f45554951"
   },
   "outputs": [],
   "source": [
    "clasificador.fit(X_ce, y_ce)"
   ]
  },
  {
   "cell_type": "markdown",
   "id": "9wUgVLQCymeY",
   "metadata": {
    "id": "9wUgVLQCymeY"
   },
   "source": [
    "# Se grafica todo el conjunto de datos empleando el clasificador SVM para cada dato"
   ]
  },
  {
   "cell_type": "code",
   "execution_count": null,
   "id": "81591bee-8db0-48b6-a8f9-ff9c62cee999",
   "metadata": {
    "id": "81591bee-8db0-48b6-a8f9-ff9c62cee999"
   },
   "outputs": [],
   "source": [
    "# Etiquetado y ajuste del conjunto de datos original\n",
    "X_set, y_set = X, labelencoder_y.fit_transform(y)"
   ]
  },
  {
   "cell_type": "markdown",
   "id": "7ff279b4-167f-4eef-88b9-a589d8e0e0ed",
   "metadata": {
    "id": "7ff279b4-167f-4eef-88b9-a589d8e0e0ed"
   },
   "source": [
    "## Creación de la malla (plano cartesiano)"
   ]
  },
  {
   "cell_type": "code",
   "execution_count": null,
   "id": "5972d644-0f4a-486b-9049-8462bce58571",
   "metadata": {
    "id": "5972d644-0f4a-486b-9049-8462bce58571"
   },
   "outputs": [],
   "source": [
    "X1, X2 = np.meshgrid(\n",
    "    np.arange(start = X_set.iloc[:,0].min()-1, stop = X_set.iloc[:,0].max()+1, step=0.1),\n",
    "    np.arange(start = X_set.iloc[:,1].min()-1, stop = X_set.iloc[:,1].max()+1, step=0.1)\n",
    ")"
   ]
  },
  {
   "cell_type": "markdown",
   "id": "318c6684-007a-4425-b7c9-4c1197aa2cfd",
   "metadata": {},
   "source": [
    "## Creación del gráfico"
   ]
  },
  {
   "cell_type": "code",
   "execution_count": null,
   "id": "NCpE_pisx0ff",
   "metadata": {
    "id": "NCpE_pisx0ff"
   },
   "outputs": [],
   "source": [
    "# Al construir la malla, se colorea la región de naranja o rojo \n",
    "# de acuerdo al clasificador SVM obtenido\n",
    "plt.contourf(X1, X2, \n",
    "    clasificador.predict(\n",
    "        np.array([X1.ravel(), X2.ravel()]).T).reshape(X1.shape),\n",
    "        alpha = 0.75, cmap = ListedColormap(('orange', 'red'))                \n",
    ")\n",
    "\n",
    "# Se establecen los límites de los ejes x,y en el gráfico\n",
    "plt.xlim(X1.min(), X1.max())\n",
    "plt.ylim(X2.min(), X2.max())\n",
    "\n",
    "# Se grafica cada dato en el plano cartesiano, la clase de cada dato determina el color. \n",
    "# Debido al proceso de etiquetado, 'n' fue sustituido por 0 y 'r' sustituido por 1\n",
    "# 0 -> Naranja\n",
    "# 1 -> Rojo\n",
    "j=0\n",
    "for i in y_set:\n",
    "    if i==0:\n",
    "        color = \"orange\"\n",
    "    else:\n",
    "        color = \"red\"\n",
    "    plt.scatter(\n",
    "        X_set.iloc[j,0], # a\n",
    "        X_set.iloc[j,1], # b\n",
    "        c = color,\n",
    "        label = i\n",
    "    )\n",
    "    j=j+1\n",
    "\n",
    "# Etiqueta del gráfico y sus ejes\n",
    "plt.title('Máquina de Soporte Vectorial: Conjunto de datos')\n",
    "plt.xlabel('a')\n",
    "plt.ylabel('b')\n",
    "\n",
    "# Creación del gráfico\n",
    "plt.show()"
   ]
  },
  {
   "cell_type": "markdown",
   "id": "0a8e82f9-d803-4cd5-9082-1718c5d47425",
   "metadata": {},
   "source": [
    "# Clasificar nuevos datos con SVM"
   ]
  },
  {
   "cell_type": "markdown",
   "id": "eadea7a2-eea4-41c4-8813-4f2914e2677f",
   "metadata": {},
   "source": [
    "## Se clasifica un dato con el clasificador construido con SVM"
   ]
  },
  {
   "cell_type": "markdown",
   "id": "03e88996-4881-4764-8f14-ba892dca401c",
   "metadata": {},
   "source": [
    "dato = (160, 145)"
   ]
  },
  {
   "cell_type": "code",
   "execution_count": null,
   "id": "30300434-81b7-4691-8a63-2611dd696140",
   "metadata": {},
   "outputs": [],
   "source": [
    "# Predicción del dato = (160, 145)\n",
    "x = clasificador.predict([[160, 145]])\n",
    "if x==0:\n",
    "    print('naranja')\n",
    "else:\n",
    "    print('rojo')"
   ]
  },
  {
   "cell_type": "markdown",
   "id": "44a307f9-a6b6-4019-a855-104c094d9091",
   "metadata": {},
   "source": [
    "## Se clasifica otro dato con el clasificador construido con SVM"
   ]
  },
  {
   "cell_type": "markdown",
   "id": "b9a6e62d-3f05-4d74-862b-0adb28293a6d",
   "metadata": {},
   "source": [
    "dato = (160, 165)"
   ]
  },
  {
   "cell_type": "code",
   "execution_count": null,
   "id": "4199ca91-e99c-4de6-b755-d204f6b4da74",
   "metadata": {},
   "outputs": [],
   "source": [
    "# Predicción del dato = (160, 165)\n",
    "x = clasificador.predict([[160, 165]])\n",
    "if x==0:\n",
    "    print('naranja')\n",
    "else:\n",
    "    print('rojo')"
   ]
  },
  {
   "cell_type": "markdown",
   "id": "d13d7149-a7c4-48b9-b283-63d49f366253",
   "metadata": {},
   "source": [
    "## Ahora, a manera de prueba, se clasifica el promedio de los datos"
   ]
  },
  {
   "cell_type": "code",
   "execution_count": null,
   "id": "c80cb127-94ed-4aa1-adaf-578896b6b846",
   "metadata": {},
   "outputs": [],
   "source": [
    "# X_set es un DataFrame de pandas\n",
    "X_set.mean(0)"
   ]
  },
  {
   "cell_type": "code",
   "execution_count": null,
   "id": "66c84f15-8a3c-4e05-9b13-ceb9b280fe80",
   "metadata": {},
   "outputs": [],
   "source": [
    "# Predicción del dato promedio = (169.6944, 155)\n",
    "x = clasificador.predict([[169.6944, 155]])\n",
    "if x==0:\n",
    "    print('naranja')\n",
    "else:\n",
    "    print('rojo')"
   ]
  },
  {
   "cell_type": "markdown",
   "id": "349af120-c812-4558-aff5-8d4faa1e7bd6",
   "metadata": {},
   "source": [
    "# Clasificación multiclase"
   ]
  },
  {
   "cell_type": "markdown",
   "id": "e36e5af9-d724-47b0-9294-39c6a891c818",
   "metadata": {},
   "source": [
    "Se utiliza el conjuto de datos iris para la clasificación mediante SVM"
   ]
  },
  {
   "cell_type": "code",
   "execution_count": null,
   "id": "a9003960-fe6d-4045-8832-6c565c3b5326",
   "metadata": {},
   "outputs": [],
   "source": [
    "iris = datasets.load_iris()\n",
    "print(iris)"
   ]
  },
  {
   "cell_type": "code",
   "execution_count": null,
   "id": "70dd9dfc-52f8-4835-bc08-f6d82e81bc98",
   "metadata": {},
   "outputs": [],
   "source": [
    "import matplotlib.pyplot as plt\n",
    "from sklearn import svm, datasets\n",
    "from sklearn.inspection import DecisionBoundaryDisplay\n",
    "\n",
    "\n",
    "# import some data to play with\n",
    "iris = datasets.load_iris()\n",
    "# Take the first two features. We could avoid this by using a two-dim dataset\n",
    "X = iris.data[:, :2]\n",
    "y = iris.target\n",
    "\n",
    "# we create an instance of SVM and fit out data. We do not scale our\n",
    "# data since we want to plot the support vectors\n",
    "C = 1.0  # SVM regularization parameter\n",
    "models = (\n",
    "    svm.SVC(kernel=\"linear\", C=C),\n",
    "    svm.LinearSVC(C=C, max_iter=10000),\n",
    "    svm.SVC(kernel=\"rbf\", gamma=0.7, C=C),\n",
    "    svm.SVC(kernel=\"poly\", degree=5, gamma=\"auto\", C=C),\n",
    ")\n",
    "models = (clf.fit(X, y) for clf in models)\n",
    "\n",
    "# title for the plots\n",
    "titles = (\n",
    "    \"SVC with linear kernel\",\n",
    "    \"LinearSVC (linear kernel)\",\n",
    "    \"SVC with RBF kernel\",\n",
    "    \"SVC with polynomial (degree 3) kernel\",\n",
    ")\n",
    "\n",
    "# Set-up 2x2 grid for plotting.\n",
    "fig, sub = plt.subplots(2, 2)\n",
    "plt.subplots_adjust(wspace=0.4, hspace=0.4)\n",
    "\n",
    "X0, X1 = X[:, 0], X[:, 1]\n",
    "\n",
    "for clf, title, ax in zip(models, titles, sub.flatten()):\n",
    "    disp = DecisionBoundaryDisplay.from_estimator(\n",
    "        clf,\n",
    "        X,\n",
    "        response_method=\"predict\",\n",
    "        cmap=plt.cm.coolwarm,\n",
    "        alpha=0.8,\n",
    "        ax=ax,\n",
    "        xlabel=iris.feature_names[0],\n",
    "        ylabel=iris.feature_names[1],\n",
    "    )\n",
    "    ax.scatter(X0, X1, c=y, cmap=plt.cm.coolwarm, s=20, edgecolors=\"k\")\n",
    "    ax.set_xticks(())\n",
    "    ax.set_yticks(())\n",
    "    ax.set_title(title)\n",
    "\n",
    "plt.show()"
   ]
  },
  {
   "cell_type": "markdown",
   "id": "abaa82ea-08da-488d-aa86-68e42de40a43",
   "metadata": {},
   "source": [
    "# Clasificación desbalanceada\n",
    "Muestras con peso"
   ]
  },
  {
   "cell_type": "markdown",
   "id": "f305a76b-ed1c-4f4e-9399-cf76d4527e29",
   "metadata": {},
   "source": [
    "## Ejemplo 1"
   ]
  },
  {
   "cell_type": "code",
   "execution_count": null,
   "id": "40abf858-3582-4b9c-b1e4-0a1fd58c7628",
   "metadata": {},
   "outputs": [],
   "source": [
    "import numpy as np\n",
    "import matplotlib.pyplot as plt\n",
    "from sklearn import svm\n",
    "\n",
    "\n",
    "def plot_decision_function(classifier, sample_weight, axis, title):\n",
    "    # plot the decision function\n",
    "    xx, yy = np.meshgrid(np.linspace(-4, 5, 500), np.linspace(-4, 5, 500))\n",
    "\n",
    "    Z = classifier.decision_function(np.c_[xx.ravel(), yy.ravel()])\n",
    "    Z = Z.reshape(xx.shape)\n",
    "\n",
    "    # plot the line, the points, and the nearest vectors to the plane\n",
    "    axis.contourf(xx, yy, Z, alpha=0.75, cmap=plt.cm.bone)\n",
    "    axis.scatter(\n",
    "        X[:, 0],\n",
    "        X[:, 1],\n",
    "        c=y,\n",
    "        s=100 * sample_weight,\n",
    "        alpha=0.9,\n",
    "        cmap=plt.cm.bone,\n",
    "        edgecolors=\"black\",\n",
    "    )\n",
    "\n",
    "    axis.axis(\"off\")\n",
    "    axis.set_title(title)\n",
    "\n",
    "\n",
    "# we create 20 points\n",
    "np.random.seed(0)\n",
    "X = np.r_[np.random.randn(10, 2) + [1, 1], np.random.randn(10, 2)]\n",
    "y = [1] * 10 + [-1] * 10\n",
    "sample_weight_last_ten = abs(np.random.randn(len(X)))\n",
    "sample_weight_constant = np.ones(len(X))\n",
    "# and bigger weights to some outliers\n",
    "sample_weight_last_ten[15:] *= 5\n",
    "sample_weight_last_ten[9] *= 15\n",
    "\n",
    "# Fit the models.\n",
    "\n",
    "# This model does not take into account sample weights.\n",
    "clf_no_weights = svm.SVC(gamma=1)\n",
    "clf_no_weights.fit(X, y)\n",
    "\n",
    "# This other model takes into account some dedicated sample weights.\n",
    "clf_weights = svm.SVC(gamma=1)\n",
    "clf_weights.fit(X, y, sample_weight=sample_weight_last_ten)\n",
    "\n",
    "fig, axes = plt.subplots(1, 2,  figsize=(14, 6))\n",
    "plot_decision_function(\n",
    "    clf_no_weights, sample_weight_constant, axes[0], \"Constant weights\"\n",
    ")\n",
    "plot_decision_function(clf_weights, sample_weight_last_ten, axes[1], \"Modified weights\")\n",
    "\n",
    "plt.show()"
   ]
  },
  {
   "cell_type": "markdown",
   "id": "10cf4f18-54b2-456c-90df-13727b9a8925",
   "metadata": {},
   "source": [
    "## Ejemplo 2"
   ]
  },
  {
   "cell_type": "code",
   "execution_count": null,
   "id": "60efbd85-4ad6-45d1-b317-fc74eacad731",
   "metadata": {},
   "outputs": [],
   "source": [
    "import matplotlib.pyplot as plt\n",
    "from sklearn import svm\n",
    "from sklearn.datasets import make_blobs\n",
    "from sklearn.inspection import DecisionBoundaryDisplay\n",
    "\n",
    "# we create two clusters of random points\n",
    "n_samples_1 = 1000\n",
    "n_samples_2 = 100\n",
    "centers = [[0.0, 0.0], [2.0, 2.0]]\n",
    "clusters_std = [1.5, 0.5]\n",
    "X, y = make_blobs(\n",
    "    n_samples=[n_samples_1, n_samples_2],\n",
    "    centers=centers,\n",
    "    cluster_std=clusters_std,\n",
    "    random_state=0,\n",
    "    shuffle=False,\n",
    ")\n",
    "\n",
    "# fit the model and get the separating hyperplane\n",
    "clf = svm.SVC(kernel=\"linear\", C=1.0)\n",
    "clf.fit(X, y)\n",
    "\n",
    "# fit the model and get the separating hyperplane using weighted classes\n",
    "wclf = svm.SVC(kernel=\"linear\", class_weight={1: 10})\n",
    "wclf.fit(X, y)\n",
    "\n",
    "# plot the samples\n",
    "plt.scatter(X[:, 0], X[:, 1], c=y, cmap=plt.cm.Paired, edgecolors=\"k\")\n",
    "\n",
    "# plot the decision functions for both classifiers\n",
    "ax = plt.gca()\n",
    "disp = DecisionBoundaryDisplay.from_estimator(\n",
    "    clf,\n",
    "    X,\n",
    "    plot_method=\"contour\",\n",
    "    colors=\"k\",\n",
    "    levels=[0],\n",
    "    alpha=0.5,\n",
    "    linestyles=[\"-\"],\n",
    "    ax=ax,\n",
    ")\n",
    "\n",
    "# plot decision boundary and margins for weighted classes\n",
    "wdisp = DecisionBoundaryDisplay.from_estimator(\n",
    "    wclf,\n",
    "    X,\n",
    "    plot_method=\"contour\",\n",
    "    colors=\"r\",\n",
    "    levels=[0],\n",
    "    alpha=0.5,\n",
    "    linestyles=[\"-\"],\n",
    "    ax=ax,\n",
    ")\n",
    "\n",
    "plt.legend(\n",
    "    [disp.surface_.collections[0], wdisp.surface_.collections[0]],\n",
    "    [\"non weighted\", \"weighted\"],\n",
    "    loc=\"upper right\",\n",
    ")\n",
    "plt.show()"
   ]
  },
  {
   "cell_type": "code",
   "execution_count": null,
   "id": "5b046be6-0fa0-48e1-942c-189f10a47af2",
   "metadata": {},
   "outputs": [],
   "source": []
  }
 ],
 "metadata": {
  "colab": {
   "collapsed_sections": [],
   "provenance": []
  },
  "kernelspec": {
   "display_name": "Python 3 (ipykernel)",
   "language": "python",
   "name": "python3"
  },
  "language_info": {
   "codemirror_mode": {
    "name": "ipython",
    "version": 3
   },
   "file_extension": ".py",
   "mimetype": "text/x-python",
   "name": "python",
   "nbconvert_exporter": "python",
   "pygments_lexer": "ipython3",
   "version": "3.11.3"
  }
 },
 "nbformat": 4,
 "nbformat_minor": 5
}
