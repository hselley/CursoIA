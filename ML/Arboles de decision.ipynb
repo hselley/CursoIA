{
 "cells": [
  {
   "cell_type": "markdown",
   "id": "12b5fbdd-467d-45cd-aba9-c114e32e4d77",
   "metadata": {},
   "source": [
    "# Árboles de decisión (DT)"
   ]
  },
  {
   "cell_type": "markdown",
   "id": "97b576ce-74fc-469f-8305-f03da1779631",
   "metadata": {
    "id": "97b576ce-74fc-469f-8305-f03da1779631"
   },
   "source": [
    "## Paquetes numpy y pandas"
   ]
  },
  {
   "cell_type": "code",
   "execution_count": 1,
   "id": "5b587af5-3419-4ca4-b32b-c9024f4c3233",
   "metadata": {
    "id": "5b587af5-3419-4ca4-b32b-c9024f4c3233"
   },
   "outputs": [],
   "source": [
    "import numpy as np\n",
    "import pandas as pd"
   ]
  },
  {
   "cell_type": "markdown",
   "id": "6ae59b40-bae4-4a0e-838f-819899d52abb",
   "metadata": {},
   "source": [
    "### Para fines de estética en la salida, se desactivan las advertencias que pueda informar el intérprete Python"
   ]
  },
  {
   "cell_type": "code",
   "execution_count": 2,
   "id": "58dd0618-4cf6-4da7-998e-42815fa97531",
   "metadata": {},
   "outputs": [],
   "source": [
    "import warnings \n",
    "warnings.filterwarnings(\"ignore\")"
   ]
  },
  {
   "cell_type": "markdown",
   "id": "f980a02f-5b65-4684-a54f-6971da97da31",
   "metadata": {},
   "source": [
    "## Paquetes para la construcción del gráfico"
   ]
  },
  {
   "cell_type": "code",
   "execution_count": 3,
   "id": "02c7d6b1-764c-480f-b025-d0043a1ac561",
   "metadata": {},
   "outputs": [],
   "source": [
    "# Paquetes para los gráficos\n",
    "import matplotlib.pyplot as plt\n",
    "import graphviz "
   ]
  },
  {
   "cell_type": "markdown",
   "id": "4c155368-5e39-4f88-ad15-31e5b0294b81",
   "metadata": {},
   "source": [
    "## Importación método para creación del conjunto de entrenamiento desde paquete *sklearn*"
   ]
  },
  {
   "cell_type": "code",
   "execution_count": 4,
   "id": "183eb861-e598-4971-800f-03b2b6975b36",
   "metadata": {
    "id": "183eb861-e598-4971-800f-03b2b6975b36"
   },
   "outputs": [],
   "source": [
    "from sklearn.model_selection import train_test_split"
   ]
  },
  {
   "cell_type": "markdown",
   "id": "fc00a2f2-ce66-49b5-acc8-32cb99c4d076",
   "metadata": {},
   "source": [
    "## Paquete sklearn que contiene los métodos para árboles de decisión "
   ]
  },
  {
   "cell_type": "code",
   "execution_count": 5,
   "id": "21ab258c-c2b2-48e5-b10a-b9f462f3a7ab",
   "metadata": {},
   "outputs": [],
   "source": [
    "# Métodos para árboles de decisión desde sklearn\n",
    "from sklearn.tree import DecisionTreeClassifier\n",
    "from sklearn.inspection import DecisionBoundaryDisplay\n",
    "from sklearn import tree"
   ]
  },
  {
   "cell_type": "markdown",
   "id": "cf1d2d38-154d-461e-bbe3-3d825848fc32",
   "metadata": {
    "id": "cf1d2d38-154d-461e-bbe3-3d825848fc32"
   },
   "source": [
    "## Lectura de los datos desde el archivo *datosAB.txt*"
   ]
  },
  {
   "cell_type": "code",
   "execution_count": 6,
   "id": "969bf2af-deb1-47ba-8d2d-f39ff79a9853",
   "metadata": {
    "id": "969bf2af-deb1-47ba-8d2d-f39ff79a9853"
   },
   "outputs": [],
   "source": [
    "# Esta es la opción para Jupyter Lab/Notebook\n",
    "datos = pd.read_table(\"datosAB.txt\", sep='\\t')"
   ]
  },
  {
   "cell_type": "markdown",
   "id": "fe6c29bd-1df6-4cbc-a268-91da9594c22d",
   "metadata": {
    "id": "fe6c29bd-1df6-4cbc-a268-91da9594c22d"
   },
   "source": [
    "## Creación de conjunto de datos "
   ]
  },
  {
   "cell_type": "code",
   "execution_count": 7,
   "id": "e7fa9e8a-0d54-41e3-bc37-48a9c2f67891",
   "metadata": {
    "id": "e7fa9e8a-0d54-41e3-bc37-48a9c2f67891"
   },
   "outputs": [],
   "source": [
    "# Conjunto de datos\n",
    "X = datos.iloc[:,:-1]\n",
    "y = datos.iloc[:,2]"
   ]
  },
  {
   "cell_type": "markdown",
   "id": "887a525e-5f59-4879-a7eb-5193b7256a03",
   "metadata": {
    "id": "887a525e-5f59-4879-a7eb-5193b7256a03"
   },
   "source": [
    "## Creación de subconjutos CP y CE"
   ]
  },
  {
   "cell_type": "code",
   "execution_count": 8,
   "id": "2ac5f9f4-0dc5-4ae2-ab03-1fdbf1f0e749",
   "metadata": {
    "id": "2ac5f9f4-0dc5-4ae2-ab03-1fdbf1f0e749"
   },
   "outputs": [],
   "source": [
    "# Se elige una semilla para la selección pseudo-aleatoria\n",
    "semilla = 123456"
   ]
  },
  {
   "cell_type": "code",
   "execution_count": 9,
   "id": "7c338d3b-b44a-4bf0-a72f-703bb862bd0b",
   "metadata": {},
   "outputs": [],
   "source": [
    "X_ce, X_cp, y_ce, y_cp = train_test_split(X, y, test_size=0.3, random_state=semilla)"
   ]
  },
  {
   "cell_type": "markdown",
   "id": "488f3fa6-1795-4034-9f25-7d522ef11bd8",
   "metadata": {
    "id": "488f3fa6-1795-4034-9f25-7d522ef11bd8"
   },
   "source": [
    "## Creación y ajuste del clasificador DT"
   ]
  },
  {
   "cell_type": "code",
   "execution_count": 10,
   "id": "908e1f44-e1c2-4163-adea-cc8ea455f020",
   "metadata": {
    "id": "908e1f44-e1c2-4163-adea-cc8ea455f020"
   },
   "outputs": [],
   "source": [
    "# Entrenamiento y ajuste\n",
    "clasificador = tree.DecisionTreeClassifier()\n",
    "clasificador = clasificador.fit(X_ce, y_ce)"
   ]
  },
  {
   "cell_type": "markdown",
   "id": "b338c5bf-cd14-4a65-9b11-4d80e254bdd1",
   "metadata": {},
   "source": [
    "# Creación del gráfico del árbol de decisión"
   ]
  },
  {
   "cell_type": "code",
   "execution_count": 11,
   "id": "fd0b2c34-0953-419e-b1be-dc5f3f8ab5f7",
   "metadata": {},
   "outputs": [],
   "source": [
    "# Configuración del gráfico\n",
    "dot_data = tree.export_graphviz(clasificador, out_file=None, \n",
    "    feature_names=['A','B'],  \n",
    "    class_names=['r','n'],  \n",
    "    filled=True, rounded=True,  \n",
    "    special_characters=True) "
   ]
  },
  {
   "cell_type": "markdown",
   "id": "4578b089-57cf-49cd-9c74-b6232de291da",
   "metadata": {},
   "source": [
    "## Generación del gráfico"
   ]
  },
  {
   "cell_type": "code",
   "execution_count": 12,
   "id": "3827063c-0f7a-4cbf-9a3e-8846d2afb385",
   "metadata": {},
   "outputs": [
    {
     "data": {
      "image/svg+xml": [
       "<?xml version=\"1.0\" encoding=\"UTF-8\" standalone=\"no\"?>\n",
       "<!DOCTYPE svg PUBLIC \"-//W3C//DTD SVG 1.1//EN\"\n",
       " \"http://www.w3.org/Graphics/SVG/1.1/DTD/svg11.dtd\">\n",
       "<!-- Generated by graphviz version 2.49.3 (0)\n",
       " -->\n",
       "<!-- Title: Tree Pages: 1 -->\n",
       "<svg width=\"610pt\" height=\"671pt\"\n",
       " viewBox=\"0.00 0.00 610.00 671.00\" xmlns=\"http://www.w3.org/2000/svg\" xmlns:xlink=\"http://www.w3.org/1999/xlink\">\n",
       "<g id=\"graph0\" class=\"graph\" transform=\"scale(1 1) rotate(0) translate(4 667)\">\n",
       "<title>Tree</title>\n",
       "<polygon fill=\"white\" stroke=\"transparent\" points=\"-4,4 -4,-667 606,-667 606,4 -4,4\"/>\n",
       "<!-- 0 -->\n",
       "<g id=\"node1\" class=\"node\">\n",
       "<title>0</title>\n",
       "<path fill=\"#fdf5f0\" stroke=\"black\" d=\"M318.5,-663C318.5,-663 232.5,-663 232.5,-663 226.5,-663 220.5,-657 220.5,-651 220.5,-651 220.5,-592 220.5,-592 220.5,-586 226.5,-580 232.5,-580 232.5,-580 318.5,-580 318.5,-580 324.5,-580 330.5,-586 330.5,-592 330.5,-592 330.5,-651 330.5,-651 330.5,-657 324.5,-663 318.5,-663\"/>\n",
       "<text text-anchor=\"start\" x=\"246\" y=\"-647.8\" font-family=\"Helvetica,sans-Serif\" font-size=\"14.00\">B ≤ 158.5</text>\n",
       "<text text-anchor=\"start\" x=\"240\" y=\"-632.8\" font-family=\"Helvetica,sans-Serif\" font-size=\"14.00\">gini = 0.499</text>\n",
       "<text text-anchor=\"start\" x=\"234.5\" y=\"-617.8\" font-family=\"Helvetica,sans-Serif\" font-size=\"14.00\">samples = 25</text>\n",
       "<text text-anchor=\"start\" x=\"228.5\" y=\"-602.8\" font-family=\"Helvetica,sans-Serif\" font-size=\"14.00\">value = [13, 12]</text>\n",
       "<text text-anchor=\"start\" x=\"249.5\" y=\"-587.8\" font-family=\"Helvetica,sans-Serif\" font-size=\"14.00\">class = r</text>\n",
       "</g>\n",
       "<!-- 1 -->\n",
       "<g id=\"node2\" class=\"node\">\n",
       "<title>1</title>\n",
       "<path fill=\"#8bc6f0\" stroke=\"black\" d=\"M256.5,-544C256.5,-544 178.5,-544 178.5,-544 172.5,-544 166.5,-538 166.5,-532 166.5,-532 166.5,-473 166.5,-473 166.5,-467 172.5,-461 178.5,-461 178.5,-461 256.5,-461 256.5,-461 262.5,-461 268.5,-467 268.5,-473 268.5,-473 268.5,-532 268.5,-532 268.5,-538 262.5,-544 256.5,-544\"/>\n",
       "<text text-anchor=\"start\" x=\"188\" y=\"-528.8\" font-family=\"Helvetica,sans-Serif\" font-size=\"14.00\">A ≤ 167.5</text>\n",
       "<text text-anchor=\"start\" x=\"182\" y=\"-513.8\" font-family=\"Helvetica,sans-Serif\" font-size=\"14.00\">gini = 0.415</text>\n",
       "<text text-anchor=\"start\" x=\"176.5\" y=\"-498.8\" font-family=\"Helvetica,sans-Serif\" font-size=\"14.00\">samples = 17</text>\n",
       "<text text-anchor=\"start\" x=\"174.5\" y=\"-483.8\" font-family=\"Helvetica,sans-Serif\" font-size=\"14.00\">value = [5, 12]</text>\n",
       "<text text-anchor=\"start\" x=\"190\" y=\"-468.8\" font-family=\"Helvetica,sans-Serif\" font-size=\"14.00\">class = n</text>\n",
       "</g>\n",
       "<!-- 0&#45;&gt;1 -->\n",
       "<g id=\"edge1\" class=\"edge\">\n",
       "<title>0&#45;&gt;1</title>\n",
       "<path fill=\"none\" stroke=\"black\" d=\"M255.38,-579.91C251.1,-571.29 246.54,-562.09 242.13,-553.17\"/>\n",
       "<polygon fill=\"black\" stroke=\"black\" points=\"245.16,-551.43 237.59,-544.02 238.89,-554.53 245.16,-551.43\"/>\n",
       "<text text-anchor=\"middle\" x=\"229.6\" y=\"-564.01\" font-family=\"Helvetica,sans-Serif\" font-size=\"14.00\">True</text>\n",
       "</g>\n",
       "<!-- 16 -->\n",
       "<g id=\"node17\" class=\"node\">\n",
       "<title>16</title>\n",
       "<path fill=\"#e58139\" stroke=\"black\" d=\"M370,-536.5C370,-536.5 299,-536.5 299,-536.5 293,-536.5 287,-530.5 287,-524.5 287,-524.5 287,-480.5 287,-480.5 287,-474.5 293,-468.5 299,-468.5 299,-468.5 370,-468.5 370,-468.5 376,-468.5 382,-474.5 382,-480.5 382,-480.5 382,-524.5 382,-524.5 382,-530.5 376,-536.5 370,-536.5\"/>\n",
       "<text text-anchor=\"start\" x=\"306.5\" y=\"-521.3\" font-family=\"Helvetica,sans-Serif\" font-size=\"14.00\">gini = 0.0</text>\n",
       "<text text-anchor=\"start\" x=\"297\" y=\"-506.3\" font-family=\"Helvetica,sans-Serif\" font-size=\"14.00\">samples = 8</text>\n",
       "<text text-anchor=\"start\" x=\"295\" y=\"-491.3\" font-family=\"Helvetica,sans-Serif\" font-size=\"14.00\">value = [8, 0]</text>\n",
       "<text text-anchor=\"start\" x=\"308.5\" y=\"-476.3\" font-family=\"Helvetica,sans-Serif\" font-size=\"14.00\">class = r</text>\n",
       "</g>\n",
       "<!-- 0&#45;&gt;16 -->\n",
       "<g id=\"edge16\" class=\"edge\">\n",
       "<title>0&#45;&gt;16</title>\n",
       "<path fill=\"none\" stroke=\"black\" d=\"M295.97,-579.91C301.53,-568.87 307.57,-556.9 313.18,-545.77\"/>\n",
       "<polygon fill=\"black\" stroke=\"black\" points=\"316.4,-547.17 317.77,-536.67 310.15,-544.02 316.4,-547.17\"/>\n",
       "<text text-anchor=\"middle\" x=\"325.6\" y=\"-556.71\" font-family=\"Helvetica,sans-Serif\" font-size=\"14.00\">False</text>\n",
       "</g>\n",
       "<!-- 2 -->\n",
       "<g id=\"node3\" class=\"node\">\n",
       "<title>2</title>\n",
       "<path fill=\"#f2c09c\" stroke=\"black\" d=\"M195,-425C195,-425 124,-425 124,-425 118,-425 112,-419 112,-413 112,-413 112,-354 112,-354 112,-348 118,-342 124,-342 124,-342 195,-342 195,-342 201,-342 207,-348 207,-354 207,-354 207,-413 207,-413 207,-419 201,-425 195,-425\"/>\n",
       "<text text-anchor=\"start\" x=\"130\" y=\"-409.8\" font-family=\"Helvetica,sans-Serif\" font-size=\"14.00\">B ≤ 146.5</text>\n",
       "<text text-anchor=\"start\" x=\"124\" y=\"-394.8\" font-family=\"Helvetica,sans-Serif\" font-size=\"14.00\">gini = 0.444</text>\n",
       "<text text-anchor=\"start\" x=\"122\" y=\"-379.8\" font-family=\"Helvetica,sans-Serif\" font-size=\"14.00\">samples = 6</text>\n",
       "<text text-anchor=\"start\" x=\"120\" y=\"-364.8\" font-family=\"Helvetica,sans-Serif\" font-size=\"14.00\">value = [4, 2]</text>\n",
       "<text text-anchor=\"start\" x=\"133.5\" y=\"-349.8\" font-family=\"Helvetica,sans-Serif\" font-size=\"14.00\">class = r</text>\n",
       "</g>\n",
       "<!-- 1&#45;&gt;2 -->\n",
       "<g id=\"edge2\" class=\"edge\">\n",
       "<title>1&#45;&gt;2</title>\n",
       "<path fill=\"none\" stroke=\"black\" d=\"M197.38,-460.91C193.1,-452.29 188.54,-443.09 184.13,-434.17\"/>\n",
       "<polygon fill=\"black\" stroke=\"black\" points=\"187.16,-432.43 179.59,-425.02 180.89,-435.53 187.16,-432.43\"/>\n",
       "</g>\n",
       "<!-- 9 -->\n",
       "<g id=\"node10\" class=\"node\">\n",
       "<title>9</title>\n",
       "<path fill=\"#4da7e8\" stroke=\"black\" d=\"M315.5,-425C315.5,-425 237.5,-425 237.5,-425 231.5,-425 225.5,-419 225.5,-413 225.5,-413 225.5,-354 225.5,-354 225.5,-348 231.5,-342 237.5,-342 237.5,-342 315.5,-342 315.5,-342 321.5,-342 327.5,-348 327.5,-354 327.5,-354 327.5,-413 327.5,-413 327.5,-419 321.5,-425 315.5,-425\"/>\n",
       "<text text-anchor=\"start\" x=\"247\" y=\"-409.8\" font-family=\"Helvetica,sans-Serif\" font-size=\"14.00\">B ≤ 155.0</text>\n",
       "<text text-anchor=\"start\" x=\"241\" y=\"-394.8\" font-family=\"Helvetica,sans-Serif\" font-size=\"14.00\">gini = 0.165</text>\n",
       "<text text-anchor=\"start\" x=\"235.5\" y=\"-379.8\" font-family=\"Helvetica,sans-Serif\" font-size=\"14.00\">samples = 11</text>\n",
       "<text text-anchor=\"start\" x=\"233.5\" y=\"-364.8\" font-family=\"Helvetica,sans-Serif\" font-size=\"14.00\">value = [1, 10]</text>\n",
       "<text text-anchor=\"start\" x=\"249\" y=\"-349.8\" font-family=\"Helvetica,sans-Serif\" font-size=\"14.00\">class = n</text>\n",
       "</g>\n",
       "<!-- 1&#45;&gt;9 -->\n",
       "<g id=\"edge9\" class=\"edge\">\n",
       "<title>1&#45;&gt;9</title>\n",
       "<path fill=\"none\" stroke=\"black\" d=\"M237.97,-460.91C242.32,-452.29 246.95,-443.09 251.45,-434.17\"/>\n",
       "<polygon fill=\"black\" stroke=\"black\" points=\"254.69,-435.53 256.07,-425.02 248.44,-432.37 254.69,-435.53\"/>\n",
       "</g>\n",
       "<!-- 3 -->\n",
       "<g id=\"node4\" class=\"node\">\n",
       "<title>3</title>\n",
       "<path fill=\"#399de5\" stroke=\"black\" d=\"M83,-298.5C83,-298.5 12,-298.5 12,-298.5 6,-298.5 0,-292.5 0,-286.5 0,-286.5 0,-242.5 0,-242.5 0,-236.5 6,-230.5 12,-230.5 12,-230.5 83,-230.5 83,-230.5 89,-230.5 95,-236.5 95,-242.5 95,-242.5 95,-286.5 95,-286.5 95,-292.5 89,-298.5 83,-298.5\"/>\n",
       "<text text-anchor=\"start\" x=\"19.5\" y=\"-283.3\" font-family=\"Helvetica,sans-Serif\" font-size=\"14.00\">gini = 0.0</text>\n",
       "<text text-anchor=\"start\" x=\"10\" y=\"-268.3\" font-family=\"Helvetica,sans-Serif\" font-size=\"14.00\">samples = 1</text>\n",
       "<text text-anchor=\"start\" x=\"8\" y=\"-253.3\" font-family=\"Helvetica,sans-Serif\" font-size=\"14.00\">value = [0, 1]</text>\n",
       "<text text-anchor=\"start\" x=\"20\" y=\"-238.3\" font-family=\"Helvetica,sans-Serif\" font-size=\"14.00\">class = n</text>\n",
       "</g>\n",
       "<!-- 2&#45;&gt;3 -->\n",
       "<g id=\"edge3\" class=\"edge\">\n",
       "<title>2&#45;&gt;3</title>\n",
       "<path fill=\"none\" stroke=\"black\" d=\"M120.64,-341.91C109.55,-330.32 97.47,-317.7 86.38,-306.11\"/>\n",
       "<polygon fill=\"black\" stroke=\"black\" points=\"88.69,-303.47 79.25,-298.67 83.64,-308.31 88.69,-303.47\"/>\n",
       "</g>\n",
       "<!-- 4 -->\n",
       "<g id=\"node5\" class=\"node\">\n",
       "<title>4</title>\n",
       "<path fill=\"#eca06a\" stroke=\"black\" d=\"M196,-306C196,-306 125,-306 125,-306 119,-306 113,-300 113,-294 113,-294 113,-235 113,-235 113,-229 119,-223 125,-223 125,-223 196,-223 196,-223 202,-223 208,-229 208,-235 208,-235 208,-294 208,-294 208,-300 202,-306 196,-306\"/>\n",
       "<text text-anchor=\"start\" x=\"131\" y=\"-290.8\" font-family=\"Helvetica,sans-Serif\" font-size=\"14.00\">A ≤ 164.5</text>\n",
       "<text text-anchor=\"start\" x=\"128.5\" y=\"-275.8\" font-family=\"Helvetica,sans-Serif\" font-size=\"14.00\">gini = 0.32</text>\n",
       "<text text-anchor=\"start\" x=\"123\" y=\"-260.8\" font-family=\"Helvetica,sans-Serif\" font-size=\"14.00\">samples = 5</text>\n",
       "<text text-anchor=\"start\" x=\"121\" y=\"-245.8\" font-family=\"Helvetica,sans-Serif\" font-size=\"14.00\">value = [4, 1]</text>\n",
       "<text text-anchor=\"start\" x=\"134.5\" y=\"-230.8\" font-family=\"Helvetica,sans-Serif\" font-size=\"14.00\">class = r</text>\n",
       "</g>\n",
       "<!-- 2&#45;&gt;4 -->\n",
       "<g id=\"edge4\" class=\"edge\">\n",
       "<title>2&#45;&gt;4</title>\n",
       "<path fill=\"none\" stroke=\"black\" d=\"M159.85,-341.91C159.92,-333.65 159.99,-324.86 160.07,-316.3\"/>\n",
       "<polygon fill=\"black\" stroke=\"black\" points=\"163.57,-316.05 160.15,-306.02 156.57,-315.99 163.57,-316.05\"/>\n",
       "</g>\n",
       "<!-- 5 -->\n",
       "<g id=\"node6\" class=\"node\">\n",
       "<title>5</title>\n",
       "<path fill=\"#ffffff\" stroke=\"black\" d=\"M195,-187C195,-187 124,-187 124,-187 118,-187 112,-181 112,-175 112,-175 112,-116 112,-116 112,-110 118,-104 124,-104 124,-104 195,-104 195,-104 201,-104 207,-110 207,-116 207,-116 207,-175 207,-175 207,-181 201,-187 195,-187\"/>\n",
       "<text text-anchor=\"start\" x=\"130\" y=\"-171.8\" font-family=\"Helvetica,sans-Serif\" font-size=\"14.00\">A ≤ 160.5</text>\n",
       "<text text-anchor=\"start\" x=\"131.5\" y=\"-156.8\" font-family=\"Helvetica,sans-Serif\" font-size=\"14.00\">gini = 0.5</text>\n",
       "<text text-anchor=\"start\" x=\"122\" y=\"-141.8\" font-family=\"Helvetica,sans-Serif\" font-size=\"14.00\">samples = 2</text>\n",
       "<text text-anchor=\"start\" x=\"120\" y=\"-126.8\" font-family=\"Helvetica,sans-Serif\" font-size=\"14.00\">value = [1, 1]</text>\n",
       "<text text-anchor=\"start\" x=\"133.5\" y=\"-111.8\" font-family=\"Helvetica,sans-Serif\" font-size=\"14.00\">class = r</text>\n",
       "</g>\n",
       "<!-- 4&#45;&gt;5 -->\n",
       "<g id=\"edge5\" class=\"edge\">\n",
       "<title>4&#45;&gt;5</title>\n",
       "<path fill=\"none\" stroke=\"black\" d=\"M160.15,-222.91C160.08,-214.65 160.01,-205.86 159.93,-197.3\"/>\n",
       "<polygon fill=\"black\" stroke=\"black\" points=\"163.43,-196.99 159.85,-187.02 156.43,-197.05 163.43,-196.99\"/>\n",
       "</g>\n",
       "<!-- 8 -->\n",
       "<g id=\"node9\" class=\"node\">\n",
       "<title>8</title>\n",
       "<path fill=\"#e58139\" stroke=\"black\" d=\"M308,-179.5C308,-179.5 237,-179.5 237,-179.5 231,-179.5 225,-173.5 225,-167.5 225,-167.5 225,-123.5 225,-123.5 225,-117.5 231,-111.5 237,-111.5 237,-111.5 308,-111.5 308,-111.5 314,-111.5 320,-117.5 320,-123.5 320,-123.5 320,-167.5 320,-167.5 320,-173.5 314,-179.5 308,-179.5\"/>\n",
       "<text text-anchor=\"start\" x=\"244.5\" y=\"-164.3\" font-family=\"Helvetica,sans-Serif\" font-size=\"14.00\">gini = 0.0</text>\n",
       "<text text-anchor=\"start\" x=\"235\" y=\"-149.3\" font-family=\"Helvetica,sans-Serif\" font-size=\"14.00\">samples = 3</text>\n",
       "<text text-anchor=\"start\" x=\"233\" y=\"-134.3\" font-family=\"Helvetica,sans-Serif\" font-size=\"14.00\">value = [3, 0]</text>\n",
       "<text text-anchor=\"start\" x=\"246.5\" y=\"-119.3\" font-family=\"Helvetica,sans-Serif\" font-size=\"14.00\">class = r</text>\n",
       "</g>\n",
       "<!-- 4&#45;&gt;8 -->\n",
       "<g id=\"edge8\" class=\"edge\">\n",
       "<title>4&#45;&gt;8</title>\n",
       "<path fill=\"none\" stroke=\"black\" d=\"M199.36,-222.91C210.45,-211.32 222.53,-198.7 233.62,-187.11\"/>\n",
       "<polygon fill=\"black\" stroke=\"black\" points=\"236.36,-189.31 240.75,-179.67 231.31,-184.47 236.36,-189.31\"/>\n",
       "</g>\n",
       "<!-- 6 -->\n",
       "<g id=\"node7\" class=\"node\">\n",
       "<title>6</title>\n",
       "<path fill=\"#e58139\" stroke=\"black\" d=\"M195,-68C195,-68 124,-68 124,-68 118,-68 112,-62 112,-56 112,-56 112,-12 112,-12 112,-6 118,0 124,0 124,0 195,0 195,0 201,0 207,-6 207,-12 207,-12 207,-56 207,-56 207,-62 201,-68 195,-68\"/>\n",
       "<text text-anchor=\"start\" x=\"131.5\" y=\"-52.8\" font-family=\"Helvetica,sans-Serif\" font-size=\"14.00\">gini = 0.0</text>\n",
       "<text text-anchor=\"start\" x=\"122\" y=\"-37.8\" font-family=\"Helvetica,sans-Serif\" font-size=\"14.00\">samples = 1</text>\n",
       "<text text-anchor=\"start\" x=\"120\" y=\"-22.8\" font-family=\"Helvetica,sans-Serif\" font-size=\"14.00\">value = [1, 0]</text>\n",
       "<text text-anchor=\"start\" x=\"133.5\" y=\"-7.8\" font-family=\"Helvetica,sans-Serif\" font-size=\"14.00\">class = r</text>\n",
       "</g>\n",
       "<!-- 5&#45;&gt;6 -->\n",
       "<g id=\"edge6\" class=\"edge\">\n",
       "<title>5&#45;&gt;6</title>\n",
       "<path fill=\"none\" stroke=\"black\" d=\"M159.5,-103.73C159.5,-95.52 159.5,-86.86 159.5,-78.56\"/>\n",
       "<polygon fill=\"black\" stroke=\"black\" points=\"163,-78.3 159.5,-68.3 156,-78.3 163,-78.3\"/>\n",
       "</g>\n",
       "<!-- 7 -->\n",
       "<g id=\"node8\" class=\"node\">\n",
       "<title>7</title>\n",
       "<path fill=\"#399de5\" stroke=\"black\" d=\"M308,-68C308,-68 237,-68 237,-68 231,-68 225,-62 225,-56 225,-56 225,-12 225,-12 225,-6 231,0 237,0 237,0 308,0 308,0 314,0 320,-6 320,-12 320,-12 320,-56 320,-56 320,-62 314,-68 308,-68\"/>\n",
       "<text text-anchor=\"start\" x=\"244.5\" y=\"-52.8\" font-family=\"Helvetica,sans-Serif\" font-size=\"14.00\">gini = 0.0</text>\n",
       "<text text-anchor=\"start\" x=\"235\" y=\"-37.8\" font-family=\"Helvetica,sans-Serif\" font-size=\"14.00\">samples = 1</text>\n",
       "<text text-anchor=\"start\" x=\"233\" y=\"-22.8\" font-family=\"Helvetica,sans-Serif\" font-size=\"14.00\">value = [0, 1]</text>\n",
       "<text text-anchor=\"start\" x=\"245\" y=\"-7.8\" font-family=\"Helvetica,sans-Serif\" font-size=\"14.00\">class = n</text>\n",
       "</g>\n",
       "<!-- 5&#45;&gt;7 -->\n",
       "<g id=\"edge7\" class=\"edge\">\n",
       "<title>5&#45;&gt;7</title>\n",
       "<path fill=\"none\" stroke=\"black\" d=\"M201.58,-103.73C211.18,-94.42 221.37,-84.54 230.95,-75.26\"/>\n",
       "<polygon fill=\"black\" stroke=\"black\" points=\"233.39,-77.77 238.14,-68.3 228.52,-72.75 233.39,-77.77\"/>\n",
       "</g>\n",
       "<!-- 10 -->\n",
       "<g id=\"node11\" class=\"node\">\n",
       "<title>10</title>\n",
       "<path fill=\"#399de5\" stroke=\"black\" d=\"M311,-298.5C311,-298.5 240,-298.5 240,-298.5 234,-298.5 228,-292.5 228,-286.5 228,-286.5 228,-242.5 228,-242.5 228,-236.5 234,-230.5 240,-230.5 240,-230.5 311,-230.5 311,-230.5 317,-230.5 323,-236.5 323,-242.5 323,-242.5 323,-286.5 323,-286.5 323,-292.5 317,-298.5 311,-298.5\"/>\n",
       "<text text-anchor=\"start\" x=\"247.5\" y=\"-283.3\" font-family=\"Helvetica,sans-Serif\" font-size=\"14.00\">gini = 0.0</text>\n",
       "<text text-anchor=\"start\" x=\"238\" y=\"-268.3\" font-family=\"Helvetica,sans-Serif\" font-size=\"14.00\">samples = 8</text>\n",
       "<text text-anchor=\"start\" x=\"236\" y=\"-253.3\" font-family=\"Helvetica,sans-Serif\" font-size=\"14.00\">value = [0, 8]</text>\n",
       "<text text-anchor=\"start\" x=\"248\" y=\"-238.3\" font-family=\"Helvetica,sans-Serif\" font-size=\"14.00\">class = n</text>\n",
       "</g>\n",
       "<!-- 9&#45;&gt;10 -->\n",
       "<g id=\"edge10\" class=\"edge\">\n",
       "<title>9&#45;&gt;10</title>\n",
       "<path fill=\"none\" stroke=\"black\" d=\"M276.15,-341.91C276.06,-331.2 275.96,-319.62 275.87,-308.78\"/>\n",
       "<polygon fill=\"black\" stroke=\"black\" points=\"279.37,-308.64 275.78,-298.67 272.37,-308.7 279.37,-308.64\"/>\n",
       "</g>\n",
       "<!-- 11 -->\n",
       "<g id=\"node12\" class=\"node\">\n",
       "<title>11</title>\n",
       "<path fill=\"#9ccef2\" stroke=\"black\" d=\"M424,-306C424,-306 353,-306 353,-306 347,-306 341,-300 341,-294 341,-294 341,-235 341,-235 341,-229 347,-223 353,-223 353,-223 424,-223 424,-223 430,-223 436,-229 436,-235 436,-235 436,-294 436,-294 436,-300 430,-306 424,-306\"/>\n",
       "<text text-anchor=\"start\" x=\"359\" y=\"-290.8\" font-family=\"Helvetica,sans-Serif\" font-size=\"14.00\">A ≤ 170.5</text>\n",
       "<text text-anchor=\"start\" x=\"353\" y=\"-275.8\" font-family=\"Helvetica,sans-Serif\" font-size=\"14.00\">gini = 0.444</text>\n",
       "<text text-anchor=\"start\" x=\"351\" y=\"-260.8\" font-family=\"Helvetica,sans-Serif\" font-size=\"14.00\">samples = 3</text>\n",
       "<text text-anchor=\"start\" x=\"349\" y=\"-245.8\" font-family=\"Helvetica,sans-Serif\" font-size=\"14.00\">value = [1, 2]</text>\n",
       "<text text-anchor=\"start\" x=\"361\" y=\"-230.8\" font-family=\"Helvetica,sans-Serif\" font-size=\"14.00\">class = n</text>\n",
       "</g>\n",
       "<!-- 9&#45;&gt;11 -->\n",
       "<g id=\"edge11\" class=\"edge\">\n",
       "<title>9&#45;&gt;11</title>\n",
       "<path fill=\"none\" stroke=\"black\" d=\"M315.36,-341.91C324.13,-332.74 333.53,-322.93 342.56,-313.49\"/>\n",
       "<polygon fill=\"black\" stroke=\"black\" points=\"345.32,-315.66 349.71,-306.02 340.27,-310.82 345.32,-315.66\"/>\n",
       "</g>\n",
       "<!-- 12 -->\n",
       "<g id=\"node13\" class=\"node\">\n",
       "<title>12</title>\n",
       "<path fill=\"#399de5\" stroke=\"black\" d=\"M423,-179.5C423,-179.5 352,-179.5 352,-179.5 346,-179.5 340,-173.5 340,-167.5 340,-167.5 340,-123.5 340,-123.5 340,-117.5 346,-111.5 352,-111.5 352,-111.5 423,-111.5 423,-111.5 429,-111.5 435,-117.5 435,-123.5 435,-123.5 435,-167.5 435,-167.5 435,-173.5 429,-179.5 423,-179.5\"/>\n",
       "<text text-anchor=\"start\" x=\"359.5\" y=\"-164.3\" font-family=\"Helvetica,sans-Serif\" font-size=\"14.00\">gini = 0.0</text>\n",
       "<text text-anchor=\"start\" x=\"350\" y=\"-149.3\" font-family=\"Helvetica,sans-Serif\" font-size=\"14.00\">samples = 1</text>\n",
       "<text text-anchor=\"start\" x=\"348\" y=\"-134.3\" font-family=\"Helvetica,sans-Serif\" font-size=\"14.00\">value = [0, 1]</text>\n",
       "<text text-anchor=\"start\" x=\"360\" y=\"-119.3\" font-family=\"Helvetica,sans-Serif\" font-size=\"14.00\">class = n</text>\n",
       "</g>\n",
       "<!-- 11&#45;&gt;12 -->\n",
       "<g id=\"edge12\" class=\"edge\">\n",
       "<title>11&#45;&gt;12</title>\n",
       "<path fill=\"none\" stroke=\"black\" d=\"M388.15,-222.91C388.06,-212.2 387.96,-200.62 387.87,-189.78\"/>\n",
       "<polygon fill=\"black\" stroke=\"black\" points=\"391.37,-189.64 387.78,-179.67 384.37,-189.7 391.37,-189.64\"/>\n",
       "</g>\n",
       "<!-- 13 -->\n",
       "<g id=\"node14\" class=\"node\">\n",
       "<title>13</title>\n",
       "<path fill=\"#ffffff\" stroke=\"black\" d=\"M536,-187C536,-187 465,-187 465,-187 459,-187 453,-181 453,-175 453,-175 453,-116 453,-116 453,-110 459,-104 465,-104 465,-104 536,-104 536,-104 542,-104 548,-110 548,-116 548,-116 548,-175 548,-175 548,-181 542,-187 536,-187\"/>\n",
       "<text text-anchor=\"start\" x=\"471\" y=\"-171.8\" font-family=\"Helvetica,sans-Serif\" font-size=\"14.00\">A ≤ 172.0</text>\n",
       "<text text-anchor=\"start\" x=\"472.5\" y=\"-156.8\" font-family=\"Helvetica,sans-Serif\" font-size=\"14.00\">gini = 0.5</text>\n",
       "<text text-anchor=\"start\" x=\"463\" y=\"-141.8\" font-family=\"Helvetica,sans-Serif\" font-size=\"14.00\">samples = 2</text>\n",
       "<text text-anchor=\"start\" x=\"461\" y=\"-126.8\" font-family=\"Helvetica,sans-Serif\" font-size=\"14.00\">value = [1, 1]</text>\n",
       "<text text-anchor=\"start\" x=\"474.5\" y=\"-111.8\" font-family=\"Helvetica,sans-Serif\" font-size=\"14.00\">class = r</text>\n",
       "</g>\n",
       "<!-- 11&#45;&gt;13 -->\n",
       "<g id=\"edge13\" class=\"edge\">\n",
       "<title>11&#45;&gt;13</title>\n",
       "<path fill=\"none\" stroke=\"black\" d=\"M427.36,-222.91C436.13,-213.74 445.53,-203.93 454.56,-194.49\"/>\n",
       "<polygon fill=\"black\" stroke=\"black\" points=\"457.32,-196.66 461.71,-187.02 452.27,-191.82 457.32,-196.66\"/>\n",
       "</g>\n",
       "<!-- 14 -->\n",
       "<g id=\"node15\" class=\"node\">\n",
       "<title>14</title>\n",
       "<path fill=\"#e58139\" stroke=\"black\" d=\"M477,-68C477,-68 406,-68 406,-68 400,-68 394,-62 394,-56 394,-56 394,-12 394,-12 394,-6 400,0 406,0 406,0 477,0 477,0 483,0 489,-6 489,-12 489,-12 489,-56 489,-56 489,-62 483,-68 477,-68\"/>\n",
       "<text text-anchor=\"start\" x=\"413.5\" y=\"-52.8\" font-family=\"Helvetica,sans-Serif\" font-size=\"14.00\">gini = 0.0</text>\n",
       "<text text-anchor=\"start\" x=\"404\" y=\"-37.8\" font-family=\"Helvetica,sans-Serif\" font-size=\"14.00\">samples = 1</text>\n",
       "<text text-anchor=\"start\" x=\"402\" y=\"-22.8\" font-family=\"Helvetica,sans-Serif\" font-size=\"14.00\">value = [1, 0]</text>\n",
       "<text text-anchor=\"start\" x=\"415.5\" y=\"-7.8\" font-family=\"Helvetica,sans-Serif\" font-size=\"14.00\">class = r</text>\n",
       "</g>\n",
       "<!-- 13&#45;&gt;14 -->\n",
       "<g id=\"edge14\" class=\"edge\">\n",
       "<title>13&#45;&gt;14</title>\n",
       "<path fill=\"none\" stroke=\"black\" d=\"M478.53,-103.73C473.86,-95.06 468.92,-85.9 464.23,-77.18\"/>\n",
       "<polygon fill=\"black\" stroke=\"black\" points=\"467.27,-75.44 459.44,-68.3 461.1,-78.76 467.27,-75.44\"/>\n",
       "</g>\n",
       "<!-- 15 -->\n",
       "<g id=\"node16\" class=\"node\">\n",
       "<title>15</title>\n",
       "<path fill=\"#399de5\" stroke=\"black\" d=\"M590,-68C590,-68 519,-68 519,-68 513,-68 507,-62 507,-56 507,-56 507,-12 507,-12 507,-6 513,0 519,0 519,0 590,0 590,0 596,0 602,-6 602,-12 602,-12 602,-56 602,-56 602,-62 596,-68 590,-68\"/>\n",
       "<text text-anchor=\"start\" x=\"526.5\" y=\"-52.8\" font-family=\"Helvetica,sans-Serif\" font-size=\"14.00\">gini = 0.0</text>\n",
       "<text text-anchor=\"start\" x=\"517\" y=\"-37.8\" font-family=\"Helvetica,sans-Serif\" font-size=\"14.00\">samples = 1</text>\n",
       "<text text-anchor=\"start\" x=\"515\" y=\"-22.8\" font-family=\"Helvetica,sans-Serif\" font-size=\"14.00\">value = [0, 1]</text>\n",
       "<text text-anchor=\"start\" x=\"527\" y=\"-7.8\" font-family=\"Helvetica,sans-Serif\" font-size=\"14.00\">class = n</text>\n",
       "</g>\n",
       "<!-- 13&#45;&gt;15 -->\n",
       "<g id=\"edge15\" class=\"edge\">\n",
       "<title>13&#45;&gt;15</title>\n",
       "<path fill=\"none\" stroke=\"black\" d=\"M520.61,-103.73C524.84,-95.15 529.31,-86.09 533.56,-77.46\"/>\n",
       "<polygon fill=\"black\" stroke=\"black\" points=\"536.79,-78.82 538.08,-68.3 530.52,-75.72 536.79,-78.82\"/>\n",
       "</g>\n",
       "</g>\n",
       "</svg>\n"
      ],
      "text/plain": [
       "<graphviz.sources.Source at 0x7f7dba15d0d0>"
      ]
     },
     "execution_count": 12,
     "metadata": {},
     "output_type": "execute_result"
    }
   ],
   "source": [
    "graph = graphviz.Source(dot_data)\n",
    "graph.render(\"datosAB\")\n",
    "graph "
   ]
  },
  {
   "cell_type": "markdown",
   "id": "23fc08af-f0a6-447a-8b75-e29bc2fbf34b",
   "metadata": {
    "id": "23fc08af-f0a6-447a-8b75-e29bc2fbf34b"
   },
   "source": [
    "## Predicción"
   ]
  },
  {
   "cell_type": "code",
   "execution_count": 13,
   "id": "06a39a44-2c4c-4143-a0a8-0e9c75fde2fd",
   "metadata": {
    "id": "06a39a44-2c4c-4143-a0a8-0e9c75fde2fd"
   },
   "outputs": [],
   "source": [
    "y_pred = clasificador.predict(X_cp)"
   ]
  },
  {
   "cell_type": "markdown",
   "id": "a46c2757-f82d-446a-a26d-4b25fea01efd",
   "metadata": {
    "id": "a46c2757-f82d-446a-a26d-4b25fea01efd"
   },
   "source": [
    "## Creación de los resultados estadísticos de la clasificación"
   ]
  },
  {
   "cell_type": "markdown",
   "id": "c7984d53-9646-4023-99b6-7130b96e6a0c",
   "metadata": {},
   "source": [
    "### Importación de método para la matriz de confusión desde paquete *sklearn*"
   ]
  },
  {
   "cell_type": "code",
   "execution_count": 14,
   "id": "b2ce0da6-d745-4481-a1a8-b90ae2370a27",
   "metadata": {
    "id": "b2ce0da6-d745-4481-a1a8-b90ae2370a27"
   },
   "outputs": [],
   "source": [
    "from sklearn.metrics import confusion_matrix\n",
    "from sklearn.metrics import ConfusionMatrixDisplay"
   ]
  },
  {
   "cell_type": "markdown",
   "id": "47d721d9-ce0c-4520-865d-80f41b680744",
   "metadata": {},
   "source": [
    "### Cálculo de la matriz de confusión"
   ]
  },
  {
   "cell_type": "code",
   "execution_count": 15,
   "id": "a8bb6f20-7cca-408b-aeaa-511fdee23df3",
   "metadata": {
    "id": "a8bb6f20-7cca-408b-aeaa-511fdee23df3"
   },
   "outputs": [],
   "source": [
    "mconf = confusion_matrix(y_cp, y_pred)"
   ]
  },
  {
   "cell_type": "markdown",
   "id": "207217ad-52ac-4516-88a7-61901462e197",
   "metadata": {},
   "source": [
    "### Impresión de la matriz de confusión"
   ]
  },
  {
   "cell_type": "code",
   "execution_count": 16,
   "id": "6c60ba78-6d36-416b-a8f6-a66f4b61f147",
   "metadata": {
    "id": "6c60ba78-6d36-416b-a8f6-a66f4b61f147"
   },
   "outputs": [
    {
     "data": {
      "image/png": "[encoded data removed]",
      "text/plain": [
       "<Figure size 640x480 with 2 Axes>"
      ]
     },
     "metadata": {},
     "output_type": "display_data"
    }
   ],
   "source": [
    "mconfg = ConfusionMatrixDisplay(mconf).plot(cmap='Blues') "
   ]
  },
  {
   "cell_type": "markdown",
   "id": "ac984874-e335-4fda-812f-ab20a168a60c",
   "metadata": {},
   "source": [
    "### Importación de método para la puntuación de precisión desde paquete *sklearn*"
   ]
  },
  {
   "cell_type": "code",
   "execution_count": 17,
   "id": "5f49a494-caac-4de5-9b76-42ead9bb15d2",
   "metadata": {
    "id": "5f49a494-caac-4de5-9b76-42ead9bb15d2"
   },
   "outputs": [],
   "source": [
    "from sklearn.metrics import accuracy_score"
   ]
  },
  {
   "cell_type": "markdown",
   "id": "bea103d8-51e1-47ff-89b5-38a12cdfbce6",
   "metadata": {},
   "source": [
    "### Cálculo de la puntuación de precisión"
   ]
  },
  {
   "cell_type": "code",
   "execution_count": 18,
   "id": "8fab8a5d-200f-448c-934b-8bbb575a6779",
   "metadata": {
    "id": "8fab8a5d-200f-448c-934b-8bbb575a6779"
   },
   "outputs": [],
   "source": [
    "cc = accuracy_score(y_cp, y_pred)"
   ]
  },
  {
   "cell_type": "markdown",
   "id": "8ed78819-56bf-4e25-b998-469818201d16",
   "metadata": {},
   "source": [
    "### Impresión de la puntuación"
   ]
  },
  {
   "cell_type": "code",
   "execution_count": 19,
   "id": "b16ffb0b-ed60-4d2c-9998-e4f0fb64a9eb",
   "metadata": {
    "id": "b16ffb0b-ed60-4d2c-9998-e4f0fb64a9eb"
   },
   "outputs": [
    {
     "name": "stdout",
     "output_type": "stream",
     "text": [
      "Accuracy Score = 0.6363636363636364\n"
     ]
    }
   ],
   "source": [
    "print(f'Accuracy Score = {cc}')"
   ]
  },
  {
   "cell_type": "markdown",
   "id": "27777d79-d548-4178-8ba9-5edf7ee7a474",
   "metadata": {
    "id": "27777d79-d548-4178-8ba9-5edf7ee7a474"
   },
   "source": [
    "## Importación de métodos para el gráfico "
   ]
  },
  {
   "cell_type": "code",
   "execution_count": 20,
   "id": "af42b414-9cdd-4dc1-9f6c-a2d11fa13b45",
   "metadata": {
    "id": "af42b414-9cdd-4dc1-9f6c-a2d11fa13b45"
   },
   "outputs": [],
   "source": [
    "import matplotlib.pyplot as plt\n",
    "from matplotlib.colors import ListedColormap"
   ]
  },
  {
   "cell_type": "markdown",
   "id": "ec7607b8-fec8-4547-a7b7-62a2d3f979ef",
   "metadata": {
    "id": "ec7607b8-fec8-4547-a7b7-62a2d3f979ef"
   },
   "source": [
    "## Ajuste del etiquetado de la variable y"
   ]
  },
  {
   "cell_type": "code",
   "execution_count": 21,
   "id": "14308fae-938a-4d71-b1c8-d211848ac174",
   "metadata": {},
   "outputs": [
    {
     "data": {
      "text/plain": [
       "7        rojo\n",
       "19    naranja\n",
       "13       rojo\n",
       "31    naranja\n",
       "33    naranja\n",
       "25    naranja\n",
       "28    naranja\n",
       "21    naranja\n",
       "14       rojo\n",
       "2        rojo\n",
       "6        rojo\n",
       "18    naranja\n",
       "15       rojo\n",
       "26    naranja\n",
       "20    naranja\n",
       "11       rojo\n",
       "12       rojo\n",
       "29    naranja\n",
       "10       rojo\n",
       "8        rojo\n",
       "4        rojo\n",
       "23    naranja\n",
       "32    naranja\n",
       "27    naranja\n",
       "1        rojo\n",
       "Name: clase, dtype: object"
      ]
     },
     "execution_count": 21,
     "metadata": {},
     "output_type": "execute_result"
    }
   ],
   "source": [
    "y_ce"
   ]
  },
  {
   "cell_type": "code",
   "execution_count": 22,
   "id": "664b5a30-4ac9-4f5a-adf1-f9a0bf19bdd9",
   "metadata": {},
   "outputs": [
    {
     "data": {
      "text/plain": [
       "16       rojo\n",
       "30    naranja\n",
       "0        rojo\n",
       "22    naranja\n",
       "35    naranja\n",
       "24    naranja\n",
       "3        rojo\n",
       "5        rojo\n",
       "9        rojo\n",
       "17       rojo\n",
       "34    naranja\n",
       "Name: clase, dtype: object"
      ]
     },
     "execution_count": 22,
     "metadata": {},
     "output_type": "execute_result"
    }
   ],
   "source": [
    "y_cp"
   ]
  },
  {
   "cell_type": "code",
   "execution_count": 23,
   "id": "db705e90-588f-4c30-bf18-874c8d4a8e7a",
   "metadata": {
    "id": "db705e90-588f-4c30-bf18-874c8d4a8e7a"
   },
   "outputs": [],
   "source": [
    "# Importación del etiquetador\n",
    "from sklearn.preprocessing import LabelEncoder\n",
    "# Creación del etiquetador\n",
    "labelencoder_y = LabelEncoder()\n",
    "# Etiquetado y ajuste\n",
    "y_ce = labelencoder_y.fit_transform(y_ce)"
   ]
  },
  {
   "cell_type": "code",
   "execution_count": 24,
   "id": "6bed6f9d-119c-40e7-b8e0-e2d0dcbd66ce",
   "metadata": {},
   "outputs": [
    {
     "data": {
      "text/plain": [
       "array([1, 0, 1, 0, 0, 0, 0, 0, 1, 1, 1, 0, 1, 0, 0, 1, 1, 0, 1, 1, 1, 0,\n",
       "       0, 0, 1])"
      ]
     },
     "execution_count": 24,
     "metadata": {},
     "output_type": "execute_result"
    }
   ],
   "source": [
    "y_ce"
   ]
  },
  {
   "cell_type": "markdown",
   "id": "b44ef35a-bc99-428c-9ff0-2d8b913e0e0e",
   "metadata": {
    "id": "b44ef35a-bc99-428c-9ff0-2d8b913e0e0e"
   },
   "source": [
    "### **Nota:** Es necesario realizar el ajuste de nuevo dado que cambió la variable y debido al proceso de etiquetado"
   ]
  },
  {
   "cell_type": "code",
   "execution_count": 25,
   "id": "bacbfb27-e80e-496b-b14d-416f45554951",
   "metadata": {
    "id": "bacbfb27-e80e-496b-b14d-416f45554951"
   },
   "outputs": [
    {
     "data": {
      "text/html": [
       "<style>#sk-container-id-1 {color: black;background-color: white;}#sk-container-id-1 pre{padding: 0;}#sk-container-id-1 div.sk-toggleable {background-color: white;}#sk-container-id-1 label.sk-toggleable__label {cursor: pointer;display: block;width: 100%;margin-bottom: 0;padding: 0.3em;box-sizing: border-box;text-align: center;}#sk-container-id-1 label.sk-toggleable__label-arrow:before {content: \"▸\";float: left;margin-right: 0.25em;color: #696969;}#sk-container-id-1 label.sk-toggleable__label-arrow:hover:before {color: black;}#sk-container-id-1 div.sk-estimator:hover label.sk-toggleable__label-arrow:before {color: black;}#sk-container-id-1 div.sk-toggleable__content {max-height: 0;max-width: 0;overflow: hidden;text-align: left;background-color: #f0f8ff;}#sk-container-id-1 div.sk-toggleable__content pre {margin: 0.2em;color: black;border-radius: 0.25em;background-color: #f0f8ff;}#sk-container-id-1 input.sk-toggleable__control:checked~div.sk-toggleable__content {max-height: 200px;max-width: 100%;overflow: auto;}#sk-container-id-1 input.sk-toggleable__control:checked~label.sk-toggleable__label-arrow:before {content: \"▾\";}#sk-container-id-1 div.sk-estimator input.sk-toggleable__control:checked~label.sk-toggleable__label {background-color: #d4ebff;}#sk-container-id-1 div.sk-label input.sk-toggleable__control:checked~label.sk-toggleable__label {background-color: #d4ebff;}#sk-container-id-1 input.sk-hidden--visually {border: 0;clip: rect(1px 1px 1px 1px);clip: rect(1px, 1px, 1px, 1px);height: 1px;margin: -1px;overflow: hidden;padding: 0;position: absolute;width: 1px;}#sk-container-id-1 div.sk-estimator {font-family: monospace;background-color: #f0f8ff;border: 1px dotted black;border-radius: 0.25em;box-sizing: border-box;margin-bottom: 0.5em;}#sk-container-id-1 div.sk-estimator:hover {background-color: #d4ebff;}#sk-container-id-1 div.sk-parallel-item::after {content: \"\";width: 100%;border-bottom: 1px solid gray;flex-grow: 1;}#sk-container-id-1 div.sk-label:hover label.sk-toggleable__label {background-color: #d4ebff;}#sk-container-id-1 div.sk-serial::before {content: \"\";position: absolute;border-left: 1px solid gray;box-sizing: border-box;top: 0;bottom: 0;left: 50%;z-index: 0;}#sk-container-id-1 div.sk-serial {display: flex;flex-direction: column;align-items: center;background-color: white;padding-right: 0.2em;padding-left: 0.2em;position: relative;}#sk-container-id-1 div.sk-item {position: relative;z-index: 1;}#sk-container-id-1 div.sk-parallel {display: flex;align-items: stretch;justify-content: center;background-color: white;position: relative;}#sk-container-id-1 div.sk-item::before, #sk-container-id-1 div.sk-parallel-item::before {content: \"\";position: absolute;border-left: 1px solid gray;box-sizing: border-box;top: 0;bottom: 0;left: 50%;z-index: -1;}#sk-container-id-1 div.sk-parallel-item {display: flex;flex-direction: column;z-index: 1;position: relative;background-color: white;}#sk-container-id-1 div.sk-parallel-item:first-child::after {align-self: flex-end;width: 50%;}#sk-container-id-1 div.sk-parallel-item:last-child::after {align-self: flex-start;width: 50%;}#sk-container-id-1 div.sk-parallel-item:only-child::after {width: 0;}#sk-container-id-1 div.sk-dashed-wrapped {border: 1px dashed gray;margin: 0 0.4em 0.5em 0.4em;box-sizing: border-box;padding-bottom: 0.4em;background-color: white;}#sk-container-id-1 div.sk-label label {font-family: monospace;font-weight: bold;display: inline-block;line-height: 1.2em;}#sk-container-id-1 div.sk-label-container {text-align: center;}#sk-container-id-1 div.sk-container {/* jupyter's `normalize.less` sets `[hidden] { display: none; }` but bootstrap.min.css set `[hidden] { display: none !important; }` so we also need the `!important` here to be able to override the default hidden behavior on the sphinx rendered scikit-learn.org. See: https://github.com/scikit-learn/scikit-learn/issues/21755 */display: inline-block !important;position: relative;}#sk-container-id-1 div.sk-text-repr-fallback {display: none;}</style><div id=\"sk-container-id-1\" class=\"sk-top-container\"><div class=\"sk-text-repr-fallback\"><pre>DecisionTreeClassifier()</pre><b>In a Jupyter environment, please rerun this cell to show the HTML representation or trust the notebook. <br />On GitHub, the HTML representation is unable to render, please try loading this page with nbviewer.org.</b></div><div class=\"sk-container\" hidden><div class=\"sk-item\"><div class=\"sk-estimator sk-toggleable\"><input class=\"sk-toggleable__control sk-hidden--visually\" id=\"sk-estimator-id-1\" type=\"checkbox\" checked><label for=\"sk-estimator-id-1\" class=\"sk-toggleable__label sk-toggleable__label-arrow\">DecisionTreeClassifier</label><div class=\"sk-toggleable__content\"><pre>DecisionTreeClassifier()</pre></div></div></div></div></div>"
      ],
      "text/plain": [
       "DecisionTreeClassifier()"
      ]
     },
     "execution_count": 25,
     "metadata": {},
     "output_type": "execute_result"
    }
   ],
   "source": [
    "clasificador.fit(X_ce, y_ce)"
   ]
  },
  {
   "cell_type": "markdown",
   "id": "9wUgVLQCymeY",
   "metadata": {
    "id": "9wUgVLQCymeY"
   },
   "source": [
    "# Se grafica todo el conjunto de datos empleando el clasificador DT para cada dato"
   ]
  },
  {
   "cell_type": "code",
   "execution_count": 26,
   "id": "81591bee-8db0-48b6-a8f9-ff9c62cee999",
   "metadata": {
    "id": "81591bee-8db0-48b6-a8f9-ff9c62cee999"
   },
   "outputs": [],
   "source": [
    "# Etiquetado y ajuste del conjunto de datos original\n",
    "X_set, y_set = X, labelencoder_y.fit_transform(y)"
   ]
  },
  {
   "cell_type": "markdown",
   "id": "7ff279b4-167f-4eef-88b9-a589d8e0e0ed",
   "metadata": {
    "id": "7ff279b4-167f-4eef-88b9-a589d8e0e0ed"
   },
   "source": [
    "## Creación de la malla (plano cartesiano)"
   ]
  },
  {
   "cell_type": "code",
   "execution_count": 27,
   "id": "5972d644-0f4a-486b-9049-8462bce58571",
   "metadata": {
    "id": "5972d644-0f4a-486b-9049-8462bce58571"
   },
   "outputs": [],
   "source": [
    "X1, X2 = np.meshgrid(\n",
    "    np.arange(start = X_set.iloc[:,0].min()-1, stop = X_set.iloc[:,0].max()+1, step=0.1),\n",
    "    np.arange(start = X_set.iloc[:,1].min()-1, stop = X_set.iloc[:,1].max()+1, step=0.1)\n",
    ")"
   ]
  },
  {
   "cell_type": "markdown",
   "id": "318c6684-007a-4425-b7c9-4c1197aa2cfd",
   "metadata": {},
   "source": [
    "## Creación del gráfico"
   ]
  },
  {
   "cell_type": "code",
   "execution_count": 28,
   "id": "NCpE_pisx0ff",
   "metadata": {
    "id": "NCpE_pisx0ff"
   },
   "outputs": [
    {
     "data": {
      "image/png": "[encoded data removed]",
      "text/plain": [
       "<Figure size 640x480 with 1 Axes>"
      ]
     },
     "metadata": {},
     "output_type": "display_data"
    }
   ],
   "source": [
    "# Al construir la malla, se colorea la región de naranja o rojo \n",
    "# de acuerdo al clasificador DT obtenido\n",
    "plt.contourf(X1, X2, \n",
    "    clasificador.predict(\n",
    "        np.array([X1.ravel(), X2.ravel()]).T).reshape(X1.shape),\n",
    "        alpha = 0.75, cmap = ListedColormap(('orange', 'red'))                \n",
    ")\n",
    "\n",
    "# Se establecen los límites de los ejes x,y en el gráfico\n",
    "plt.xlim(X1.min(), X1.max())\n",
    "plt.ylim(X2.min(), X2.max())\n",
    "\n",
    "# Se grafica cada dato en el plano cartesiano, la clase de cada dato determina el color. \n",
    "# Debido al proceso de etiquetado, 'n' fue sustituido por 0 y 'r' sustituido por 1\n",
    "# 0 -> Naranja\n",
    "# 1 -> Rojo\n",
    "j=0\n",
    "for i in y_set:\n",
    "    if i==0:\n",
    "        color = \"orange\"\n",
    "    else:\n",
    "        color = \"red\"\n",
    "    plt.scatter(\n",
    "        X_set.iloc[j,0], # a\n",
    "        X_set.iloc[j,1], # b\n",
    "        c = color,\n",
    "        label = i\n",
    "    )\n",
    "    j=j+1\n",
    "\n",
    "# Etiqueta del gráfico y sus ejes\n",
    "plt.title('Árboles de Decisión: Conjunto de datos')\n",
    "plt.xlabel('a')\n",
    "plt.ylabel('b')\n",
    "\n",
    "# Creación del gráfico\n",
    "plt.show()"
   ]
  },
  {
   "cell_type": "markdown",
   "id": "0a8e82f9-d803-4cd5-9082-1718c5d47425",
   "metadata": {},
   "source": [
    "# Clasificar nuevos datos con DT"
   ]
  },
  {
   "cell_type": "markdown",
   "id": "eadea7a2-eea4-41c4-8813-4f2914e2677f",
   "metadata": {},
   "source": [
    "## Se clasifica un dato con el clasificador construido con DT"
   ]
  },
  {
   "cell_type": "markdown",
   "id": "03e88996-4881-4764-8f14-ba892dca401c",
   "metadata": {},
   "source": [
    "dato = (160, 145)"
   ]
  },
  {
   "cell_type": "code",
   "execution_count": 29,
   "id": "30300434-81b7-4691-8a63-2611dd696140",
   "metadata": {},
   "outputs": [
    {
     "name": "stdout",
     "output_type": "stream",
     "text": [
      "rojo\n"
     ]
    }
   ],
   "source": [
    "# Predicción del dato = (160, 145)\n",
    "x = clasificador.predict([[160, 145]])\n",
    "if x==0:\n",
    "    print('naranja')\n",
    "else:\n",
    "    print('rojo')"
   ]
  },
  {
   "cell_type": "markdown",
   "id": "44a307f9-a6b6-4019-a855-104c094d9091",
   "metadata": {},
   "source": [
    "## Se clasifica otro dato con el clasificador construido con DT"
   ]
  },
  {
   "cell_type": "markdown",
   "id": "b9a6e62d-3f05-4d74-862b-0adb28293a6d",
   "metadata": {},
   "source": [
    "dato = (160, 165)"
   ]
  },
  {
   "cell_type": "code",
   "execution_count": 30,
   "id": "4199ca91-e99c-4de6-b755-d204f6b4da74",
   "metadata": {},
   "outputs": [
    {
     "name": "stdout",
     "output_type": "stream",
     "text": [
      "naranja\n"
     ]
    }
   ],
   "source": [
    "# Predicción del dato = (160, 165)\n",
    "x = clasificador.predict([[160, 165]])\n",
    "if x==0:\n",
    "    print('naranja')\n",
    "else:\n",
    "    print('rojo')"
   ]
  },
  {
   "cell_type": "markdown",
   "id": "d13d7149-a7c4-48b9-b283-63d49f366253",
   "metadata": {},
   "source": [
    "## Ahora, a manera de prueba, se clasifica el promedio de los datos"
   ]
  },
  {
   "cell_type": "code",
   "execution_count": 31,
   "id": "c80cb127-94ed-4aa1-adaf-578896b6b846",
   "metadata": {},
   "outputs": [
    {
     "data": {
      "text/plain": [
       "a    169.694444\n",
       "b    155.000000\n",
       "dtype: float64"
      ]
     },
     "execution_count": 31,
     "metadata": {},
     "output_type": "execute_result"
    }
   ],
   "source": [
    "# X_set es un DataFrame de pandas\n",
    "X_set.mean(0)"
   ]
  },
  {
   "cell_type": "code",
   "execution_count": 32,
   "id": "66c84f15-8a3c-4e05-9b13-ceb9b280fe80",
   "metadata": {},
   "outputs": [
    {
     "name": "stdout",
     "output_type": "stream",
     "text": [
      "rojo\n"
     ]
    }
   ],
   "source": [
    "# Predicción del dato promedio = (169.6944, 155)\n",
    "x = clasificador.predict([[169.6944, 155]])\n",
    "if x==0:\n",
    "    print('naranja')\n",
    "else:\n",
    "    print('rojo')"
   ]
  },
  {
   "cell_type": "code",
   "execution_count": null,
   "id": "fe68376d-358b-4797-b4f2-0f4efcd6640e",
   "metadata": {},
   "outputs": [],
   "source": []
  }
 ],
 "metadata": {
  "colab": {
   "collapsed_sections": [],
   "provenance": []
  },
  "kernelspec": {
   "display_name": "Python 3 (ipykernel)",
   "language": "python",
   "name": "python3"
  },
  "language_info": {
   "codemirror_mode": {
    "name": "ipython",
    "version": 3
   },
   "file_extension": ".py",
   "mimetype": "text/x-python",
   "name": "python",
   "nbconvert_exporter": "python",
   "pygments_lexer": "ipython3",
   "version": "3.11.3"
  }
 },
 "nbformat": 4,
 "nbformat_minor": 5
}
