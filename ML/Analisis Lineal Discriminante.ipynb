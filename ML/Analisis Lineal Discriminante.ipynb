{
 "cells": [
  {
   "cell_type": "markdown",
   "id": "12b5fbdd-467d-45cd-aba9-c114e32e4d77",
   "metadata": {},
   "source": [
    "# Análisis Lineal Discriminante (LDA)"
   ]
  },
  {
   "cell_type": "markdown",
   "id": "97b576ce-74fc-469f-8305-f03da1779631",
   "metadata": {
    "id": "97b576ce-74fc-469f-8305-f03da1779631"
   },
   "source": [
    "## Paquetes numpy y pandas"
   ]
  },
  {
   "cell_type": "code",
   "execution_count": null,
   "id": "5b587af5-3419-4ca4-b32b-c9024f4c3233",
   "metadata": {
    "id": "5b587af5-3419-4ca4-b32b-c9024f4c3233"
   },
   "outputs": [],
   "source": [
    "import numpy as np\n",
    "import pandas as pd"
   ]
  },
  {
   "cell_type": "markdown",
   "id": "6ae59b40-bae4-4a0e-838f-819899d52abb",
   "metadata": {},
   "source": [
    "### Para fines de estética en la salida, se desactivan las advertencias que pueda informar el intérprete Python"
   ]
  },
  {
   "cell_type": "code",
   "execution_count": null,
   "id": "58dd0618-4cf6-4da7-998e-42815fa97531",
   "metadata": {},
   "outputs": [],
   "source": [
    "import warnings \n",
    "warnings.filterwarnings(\"ignore\")"
   ]
  },
  {
   "cell_type": "markdown",
   "id": "f980a02f-5b65-4684-a54f-6971da97da31",
   "metadata": {},
   "source": [
    "## Paquetes para la construcción del gráfico"
   ]
  },
  {
   "cell_type": "code",
   "execution_count": null,
   "id": "02c7d6b1-764c-480f-b025-d0043a1ac561",
   "metadata": {},
   "outputs": [],
   "source": [
    "# Paquetes para los gráficos\n",
    "import matplotlib.pyplot as plt\n",
    "from matplotlib.colors import ListedColormap"
   ]
  },
  {
   "cell_type": "markdown",
   "id": "4c155368-5e39-4f88-ad15-31e5b0294b81",
   "metadata": {},
   "source": [
    "## Importación método para creación del conjunto de entrenamiento desde paquete *sklearn*"
   ]
  },
  {
   "cell_type": "code",
   "execution_count": null,
   "id": "183eb861-e598-4971-800f-03b2b6975b36",
   "metadata": {
    "id": "183eb861-e598-4971-800f-03b2b6975b36"
   },
   "outputs": [],
   "source": [
    "from sklearn.model_selection import train_test_split"
   ]
  },
  {
   "cell_type": "markdown",
   "id": "fc00a2f2-ce66-49b5-acc8-32cb99c4d076",
   "metadata": {},
   "source": [
    "## Paquete sklearn que contiene los métodos para el análisis lineal discriminante"
   ]
  },
  {
   "cell_type": "code",
   "execution_count": null,
   "id": "21ab258c-c2b2-48e5-b10a-b9f462f3a7ab",
   "metadata": {},
   "outputs": [],
   "source": [
    "# Métodos para árboles de decisión desde sklearn\n",
    "from sklearn.discriminant_analysis import LinearDiscriminantAnalysis"
   ]
  },
  {
   "cell_type": "markdown",
   "id": "cf1d2d38-154d-461e-bbe3-3d825848fc32",
   "metadata": {
    "id": "cf1d2d38-154d-461e-bbe3-3d825848fc32"
   },
   "source": [
    "## Lectura de los datos desde el archivo *datosAB.txt*"
   ]
  },
  {
   "cell_type": "code",
   "execution_count": null,
   "id": "969bf2af-deb1-47ba-8d2d-f39ff79a9853",
   "metadata": {
    "id": "969bf2af-deb1-47ba-8d2d-f39ff79a9853"
   },
   "outputs": [],
   "source": [
    "# Esta es la opción para Jupyter Lab/Notebook\n",
    "datos = pd.read_table(\"datosAB.txt\", sep='\\t')"
   ]
  },
  {
   "cell_type": "markdown",
   "id": "fe6c29bd-1df6-4cbc-a268-91da9594c22d",
   "metadata": {
    "id": "fe6c29bd-1df6-4cbc-a268-91da9594c22d"
   },
   "source": [
    "## Creación de conjunto de datos "
   ]
  },
  {
   "cell_type": "code",
   "execution_count": null,
   "id": "e7fa9e8a-0d54-41e3-bc37-48a9c2f67891",
   "metadata": {
    "id": "e7fa9e8a-0d54-41e3-bc37-48a9c2f67891"
   },
   "outputs": [],
   "source": [
    "# Conjunto de datos\n",
    "X = datos.iloc[:,:-1]\n",
    "y = datos.iloc[:,2]"
   ]
  },
  {
   "cell_type": "markdown",
   "id": "887a525e-5f59-4879-a7eb-5193b7256a03",
   "metadata": {
    "id": "887a525e-5f59-4879-a7eb-5193b7256a03"
   },
   "source": [
    "## Creación de subconjutos CP y CE"
   ]
  },
  {
   "cell_type": "code",
   "execution_count": null,
   "id": "2ac5f9f4-0dc5-4ae2-ab03-1fdbf1f0e749",
   "metadata": {
    "id": "2ac5f9f4-0dc5-4ae2-ab03-1fdbf1f0e749"
   },
   "outputs": [],
   "source": [
    "# Se elige una semilla para la selección pseudo-aleatoria\n",
    "semilla = 123456"
   ]
  },
  {
   "cell_type": "code",
   "execution_count": null,
   "id": "7c338d3b-b44a-4bf0-a72f-703bb862bd0b",
   "metadata": {},
   "outputs": [],
   "source": [
    "X_ce, X_cp, y_ce, y_cp = train_test_split(X, y, test_size=0.3, random_state=semilla)"
   ]
  },
  {
   "cell_type": "markdown",
   "id": "488f3fa6-1795-4034-9f25-7d522ef11bd8",
   "metadata": {
    "id": "488f3fa6-1795-4034-9f25-7d522ef11bd8"
   },
   "source": [
    "## Creación y ajuste del clasificador LDA"
   ]
  },
  {
   "cell_type": "code",
   "execution_count": null,
   "id": "908e1f44-e1c2-4163-adea-cc8ea455f020",
   "metadata": {
    "id": "908e1f44-e1c2-4163-adea-cc8ea455f020"
   },
   "outputs": [],
   "source": [
    "# Entrenamiento y ajuste\n",
    "clasificador = LinearDiscriminantAnalysis()\n",
    "clasificador = clasificador.fit(X_ce, y_ce)"
   ]
  },
  {
   "cell_type": "markdown",
   "id": "23fc08af-f0a6-447a-8b75-e29bc2fbf34b",
   "metadata": {
    "id": "23fc08af-f0a6-447a-8b75-e29bc2fbf34b"
   },
   "source": [
    "## Predicción"
   ]
  },
  {
   "cell_type": "code",
   "execution_count": null,
   "id": "06a39a44-2c4c-4143-a0a8-0e9c75fde2fd",
   "metadata": {
    "id": "06a39a44-2c4c-4143-a0a8-0e9c75fde2fd"
   },
   "outputs": [],
   "source": [
    "y_pred = clasificador.predict(X_cp)"
   ]
  },
  {
   "cell_type": "markdown",
   "id": "a46c2757-f82d-446a-a26d-4b25fea01efd",
   "metadata": {
    "id": "a46c2757-f82d-446a-a26d-4b25fea01efd"
   },
   "source": [
    "## Creación de los resultados estadísticos de la clasificación"
   ]
  },
  {
   "cell_type": "markdown",
   "id": "c7984d53-9646-4023-99b6-7130b96e6a0c",
   "metadata": {},
   "source": [
    "### Importación de método para la matriz de confusión desde paquete *sklearn*"
   ]
  },
  {
   "cell_type": "code",
   "execution_count": null,
   "id": "b2ce0da6-d745-4481-a1a8-b90ae2370a27",
   "metadata": {
    "id": "b2ce0da6-d745-4481-a1a8-b90ae2370a27"
   },
   "outputs": [],
   "source": [
    "from sklearn.metrics import confusion_matrix\n",
    "from sklearn.metrics import ConfusionMatrixDisplay"
   ]
  },
  {
   "cell_type": "markdown",
   "id": "47d721d9-ce0c-4520-865d-80f41b680744",
   "metadata": {},
   "source": [
    "### Cálculo de la matriz de confusión"
   ]
  },
  {
   "cell_type": "code",
   "execution_count": null,
   "id": "a8bb6f20-7cca-408b-aeaa-511fdee23df3",
   "metadata": {
    "id": "a8bb6f20-7cca-408b-aeaa-511fdee23df3"
   },
   "outputs": [],
   "source": [
    "mconf = confusion_matrix(y_cp, y_pred)"
   ]
  },
  {
   "cell_type": "markdown",
   "id": "207217ad-52ac-4516-88a7-61901462e197",
   "metadata": {},
   "source": [
    "### Impresión de la matriz de confusión"
   ]
  },
  {
   "cell_type": "code",
   "execution_count": null,
   "id": "6c60ba78-6d36-416b-a8f6-a66f4b61f147",
   "metadata": {
    "id": "6c60ba78-6d36-416b-a8f6-a66f4b61f147"
   },
   "outputs": [],
   "source": [
    "mconfg = ConfusionMatrixDisplay(mconf).plot(cmap='tab20c') "
   ]
  },
  {
   "cell_type": "markdown",
   "id": "ac984874-e335-4fda-812f-ab20a168a60c",
   "metadata": {},
   "source": [
    "### Importación de método para la puntuación de precisión desde paquete *sklearn*"
   ]
  },
  {
   "cell_type": "code",
   "execution_count": null,
   "id": "5f49a494-caac-4de5-9b76-42ead9bb15d2",
   "metadata": {
    "id": "5f49a494-caac-4de5-9b76-42ead9bb15d2"
   },
   "outputs": [],
   "source": [
    "from sklearn.metrics import accuracy_score"
   ]
  },
  {
   "cell_type": "markdown",
   "id": "bea103d8-51e1-47ff-89b5-38a12cdfbce6",
   "metadata": {},
   "source": [
    "### Cálculo de la puntuación de precisión"
   ]
  },
  {
   "cell_type": "code",
   "execution_count": null,
   "id": "8fab8a5d-200f-448c-934b-8bbb575a6779",
   "metadata": {
    "id": "8fab8a5d-200f-448c-934b-8bbb575a6779"
   },
   "outputs": [],
   "source": [
    "cc = accuracy_score(y_cp, y_pred)"
   ]
  },
  {
   "cell_type": "markdown",
   "id": "8ed78819-56bf-4e25-b998-469818201d16",
   "metadata": {},
   "source": [
    "### Impresión de la puntuación"
   ]
  },
  {
   "cell_type": "code",
   "execution_count": null,
   "id": "b16ffb0b-ed60-4d2c-9998-e4f0fb64a9eb",
   "metadata": {
    "id": "b16ffb0b-ed60-4d2c-9998-e4f0fb64a9eb"
   },
   "outputs": [],
   "source": [
    "print(f'Accuracy Score = {cc}')"
   ]
  },
  {
   "cell_type": "markdown",
   "id": "27777d79-d548-4178-8ba9-5edf7ee7a474",
   "metadata": {
    "id": "27777d79-d548-4178-8ba9-5edf7ee7a474"
   },
   "source": [
    "## Importación de métodos para el gráfico "
   ]
  },
  {
   "cell_type": "code",
   "execution_count": null,
   "id": "af42b414-9cdd-4dc1-9f6c-a2d11fa13b45",
   "metadata": {
    "id": "af42b414-9cdd-4dc1-9f6c-a2d11fa13b45"
   },
   "outputs": [],
   "source": [
    "import matplotlib.pyplot as plt\n",
    "from matplotlib.colors import ListedColormap"
   ]
  },
  {
   "cell_type": "markdown",
   "id": "ec7607b8-fec8-4547-a7b7-62a2d3f979ef",
   "metadata": {
    "id": "ec7607b8-fec8-4547-a7b7-62a2d3f979ef"
   },
   "source": [
    "## Ajuste del etiquetado de la variable y"
   ]
  },
  {
   "cell_type": "code",
   "execution_count": null,
   "id": "db705e90-588f-4c30-bf18-874c8d4a8e7a",
   "metadata": {
    "id": "db705e90-588f-4c30-bf18-874c8d4a8e7a"
   },
   "outputs": [],
   "source": [
    "# Importación del etiquetador\n",
    "from sklearn.preprocessing import LabelEncoder\n",
    "# Creación del etiquetador\n",
    "labelencoder_y = LabelEncoder()\n",
    "# Etiquetado y ajuste\n",
    "y_ce = labelencoder_y.fit_transform(y_ce)"
   ]
  },
  {
   "cell_type": "markdown",
   "id": "b44ef35a-bc99-428c-9ff0-2d8b913e0e0e",
   "metadata": {
    "id": "b44ef35a-bc99-428c-9ff0-2d8b913e0e0e"
   },
   "source": [
    "### **Nota:** Es necesario realizar el ajuste de nuevo dado que cambió la variable y debido al proceso de etiquetado"
   ]
  },
  {
   "cell_type": "code",
   "execution_count": null,
   "id": "bacbfb27-e80e-496b-b14d-416f45554951",
   "metadata": {
    "id": "bacbfb27-e80e-496b-b14d-416f45554951"
   },
   "outputs": [],
   "source": [
    "clasificador.fit(X_ce, y_ce)"
   ]
  },
  {
   "cell_type": "markdown",
   "id": "9wUgVLQCymeY",
   "metadata": {
    "id": "9wUgVLQCymeY"
   },
   "source": [
    "# Se grafica todo el conjunto de datos empleando el clasificador LDA para cada dato"
   ]
  },
  {
   "cell_type": "code",
   "execution_count": null,
   "id": "81591bee-8db0-48b6-a8f9-ff9c62cee999",
   "metadata": {
    "id": "81591bee-8db0-48b6-a8f9-ff9c62cee999"
   },
   "outputs": [],
   "source": [
    "# Etiquetado y ajuste del conjunto de datos original\n",
    "X_set, y_set = X, labelencoder_y.fit_transform(y)"
   ]
  },
  {
   "cell_type": "markdown",
   "id": "7ff279b4-167f-4eef-88b9-a589d8e0e0ed",
   "metadata": {
    "id": "7ff279b4-167f-4eef-88b9-a589d8e0e0ed"
   },
   "source": [
    "## Creación de la malla (plano cartesiano)"
   ]
  },
  {
   "cell_type": "code",
   "execution_count": null,
   "id": "5972d644-0f4a-486b-9049-8462bce58571",
   "metadata": {
    "id": "5972d644-0f4a-486b-9049-8462bce58571"
   },
   "outputs": [],
   "source": [
    "X1, X2 = np.meshgrid(\n",
    "    np.arange(start = X_set.iloc[:,0].min()-1, stop = X_set.iloc[:,0].max()+1, step=0.1),\n",
    "    np.arange(start = X_set.iloc[:,1].min()-1, stop = X_set.iloc[:,1].max()+1, step=0.1)\n",
    ")"
   ]
  },
  {
   "cell_type": "markdown",
   "id": "318c6684-007a-4425-b7c9-4c1197aa2cfd",
   "metadata": {},
   "source": [
    "## Creación del gráfico"
   ]
  },
  {
   "cell_type": "code",
   "execution_count": null,
   "id": "NCpE_pisx0ff",
   "metadata": {
    "id": "NCpE_pisx0ff"
   },
   "outputs": [],
   "source": [
    "# Al construir la malla, se colorea la región de naranja o rojo \n",
    "# de acuerdo al clasificador LDA obtenido\n",
    "plt.contourf(X1, X2, \n",
    "    clasificador.predict(\n",
    "        np.array([X1.ravel(), X2.ravel()]).T).reshape(X1.shape),\n",
    "        alpha = 0.75, cmap = ListedColormap(('orange', 'red'))                \n",
    ")\n",
    "\n",
    "# Se establecen los límites de los ejes x,y en el gráfico\n",
    "plt.xlim(X1.min(), X1.max())\n",
    "plt.ylim(X2.min(), X2.max())\n",
    "\n",
    "# Se grafica cada dato en el plano cartesiano, la clase de cada dato determina el color. \n",
    "# Debido al proceso de etiquetado, 'n' fue sustituido por 0 y 'r' sustituido por 1\n",
    "# 0 -> Naranja\n",
    "# 1 -> Rojo\n",
    "j=0\n",
    "for i in y_set:\n",
    "    if i==0:\n",
    "        color = \"orange\"\n",
    "    else:\n",
    "        color = \"red\"\n",
    "    plt.scatter(\n",
    "        X_set.iloc[j,0],\n",
    "        X_set.iloc[j,1],\n",
    "        c = color,\n",
    "        label = i\n",
    "    )\n",
    "    j=j+1\n",
    "\n",
    "# Etiqueta del gráfico y sus ejes\n",
    "plt.title('Análisis Lineal Discriminante: Conjunto de datos')\n",
    "plt.xlabel('a')\n",
    "plt.ylabel('b')\n",
    "\n",
    "# Creación del gráfico\n",
    "plt.show()"
   ]
  },
  {
   "cell_type": "markdown",
   "id": "0a8e82f9-d803-4cd5-9082-1718c5d47425",
   "metadata": {},
   "source": [
    "# Clasificar nuevos datos con LDA"
   ]
  },
  {
   "cell_type": "markdown",
   "id": "eadea7a2-eea4-41c4-8813-4f2914e2677f",
   "metadata": {},
   "source": [
    "## Se clasifica un dato con el clasificador construido con LDA"
   ]
  },
  {
   "cell_type": "markdown",
   "id": "03e88996-4881-4764-8f14-ba892dca401c",
   "metadata": {},
   "source": [
    "dato = (160, 145)"
   ]
  },
  {
   "cell_type": "code",
   "execution_count": null,
   "id": "30300434-81b7-4691-8a63-2611dd696140",
   "metadata": {},
   "outputs": [],
   "source": [
    "# Predicción del dato = (160, 145)\n",
    "x = clasificador.predict([[160, 145]])\n",
    "if x==0:\n",
    "    print('naranja')\n",
    "else:\n",
    "    print('rojo')"
   ]
  },
  {
   "cell_type": "markdown",
   "id": "44a307f9-a6b6-4019-a855-104c094d9091",
   "metadata": {},
   "source": [
    "## Se clasifica otro dato con el clasificador construido con LDA"
   ]
  },
  {
   "cell_type": "markdown",
   "id": "b9a6e62d-3f05-4d74-862b-0adb28293a6d",
   "metadata": {},
   "source": [
    "dato = (160, 165)"
   ]
  },
  {
   "cell_type": "code",
   "execution_count": null,
   "id": "4199ca91-e99c-4de6-b755-d204f6b4da74",
   "metadata": {},
   "outputs": [],
   "source": [
    "# Predicción del dato = (160, 165)\n",
    "x = clasificador.predict([[160, 165]])\n",
    "if x==0:\n",
    "    print('naranja')\n",
    "else:\n",
    "    print('rojo')"
   ]
  },
  {
   "cell_type": "markdown",
   "id": "d13d7149-a7c4-48b9-b283-63d49f366253",
   "metadata": {},
   "source": [
    "## Ahora, a manera de prueba, se clasifica el promedio de los datos"
   ]
  },
  {
   "cell_type": "code",
   "execution_count": null,
   "id": "c80cb127-94ed-4aa1-adaf-578896b6b846",
   "metadata": {},
   "outputs": [],
   "source": [
    "# X_set es un DataFrame de pandas\n",
    "X_set.mean(0)"
   ]
  },
  {
   "cell_type": "code",
   "execution_count": null,
   "id": "66c84f15-8a3c-4e05-9b13-ceb9b280fe80",
   "metadata": {},
   "outputs": [],
   "source": [
    "# Predicción del dato promedio = (169.6944, 155)\n",
    "x = clasificador.predict([[169.6944, 155]])\n",
    "if x==0:\n",
    "    print('naranja')\n",
    "else:\n",
    "    print('rojo')"
   ]
  }
 ],
 "metadata": {
  "colab": {
   "collapsed_sections": [],
   "provenance": []
  },
  "kernelspec": {
   "display_name": "Python 3 (ipykernel)",
   "language": "python",
   "name": "python3"
  },
  "language_info": {
   "codemirror_mode": {
    "name": "ipython",
    "version": 3
   },
   "file_extension": ".py",
   "mimetype": "text/x-python",
   "name": "python",
   "nbconvert_exporter": "python",
   "pygments_lexer": "ipython3",
   "version": "3.10.11"
  }
 },
 "nbformat": 4,
 "nbformat_minor": 5
}
